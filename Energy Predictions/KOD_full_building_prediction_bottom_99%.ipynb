{
 "cells": [
  {
   "cell_type": "code",
   "execution_count": 1,
   "metadata": {},
   "outputs": [],
   "source": [
    "import pandas as pd\n",
    "import numpy as np\n",
    "%matplotlib inline\n",
    "import seaborn as sns\n",
    "import stat\n",
    "import matplotlib.pyplot as plt\n",
    "from statsmodels.tsa.seasonal import seasonal_decompose  \n",
    "import statsmodels.api as sm\n",
    "import matplotlib.pyplot as plt\n",
    "import pmdarima as pm\n",
    "from statsmodels.tsa.statespace.varmax import VARMAX, VARMAXResults\n",
    "import tensorflow as tf"
   ]
  },
  {
   "cell_type": "code",
   "execution_count": 2,
   "metadata": {},
   "outputs": [],
   "source": [
    "bmd = pd.read_csv('building_metadata.csv')"
   ]
  },
  {
   "cell_type": "code",
   "execution_count": 3,
   "metadata": {},
   "outputs": [
    {
     "data": {
      "text/html": [
       "<div>\n",
       "<style scoped>\n",
       "    .dataframe tbody tr th:only-of-type {\n",
       "        vertical-align: middle;\n",
       "    }\n",
       "\n",
       "    .dataframe tbody tr th {\n",
       "        vertical-align: top;\n",
       "    }\n",
       "\n",
       "    .dataframe thead th {\n",
       "        text-align: right;\n",
       "    }\n",
       "</style>\n",
       "<table border=\"1\" class=\"dataframe\">\n",
       "  <thead>\n",
       "    <tr style=\"text-align: right;\">\n",
       "      <th></th>\n",
       "      <th>site_id</th>\n",
       "      <th>building_id</th>\n",
       "      <th>primary_use</th>\n",
       "      <th>square_feet</th>\n",
       "      <th>year_built</th>\n",
       "      <th>floor_count</th>\n",
       "    </tr>\n",
       "  </thead>\n",
       "  <tbody>\n",
       "    <tr>\n",
       "      <th>0</th>\n",
       "      <td>0</td>\n",
       "      <td>0</td>\n",
       "      <td>Education</td>\n",
       "      <td>7432</td>\n",
       "      <td>2008.0</td>\n",
       "      <td>NaN</td>\n",
       "    </tr>\n",
       "    <tr>\n",
       "      <th>1</th>\n",
       "      <td>0</td>\n",
       "      <td>1</td>\n",
       "      <td>Education</td>\n",
       "      <td>2720</td>\n",
       "      <td>2004.0</td>\n",
       "      <td>NaN</td>\n",
       "    </tr>\n",
       "    <tr>\n",
       "      <th>2</th>\n",
       "      <td>0</td>\n",
       "      <td>2</td>\n",
       "      <td>Education</td>\n",
       "      <td>5376</td>\n",
       "      <td>1991.0</td>\n",
       "      <td>NaN</td>\n",
       "    </tr>\n",
       "    <tr>\n",
       "      <th>3</th>\n",
       "      <td>0</td>\n",
       "      <td>3</td>\n",
       "      <td>Education</td>\n",
       "      <td>23685</td>\n",
       "      <td>2002.0</td>\n",
       "      <td>NaN</td>\n",
       "    </tr>\n",
       "    <tr>\n",
       "      <th>4</th>\n",
       "      <td>0</td>\n",
       "      <td>4</td>\n",
       "      <td>Education</td>\n",
       "      <td>116607</td>\n",
       "      <td>1975.0</td>\n",
       "      <td>NaN</td>\n",
       "    </tr>\n",
       "    <tr>\n",
       "      <th>...</th>\n",
       "      <td>...</td>\n",
       "      <td>...</td>\n",
       "      <td>...</td>\n",
       "      <td>...</td>\n",
       "      <td>...</td>\n",
       "      <td>...</td>\n",
       "    </tr>\n",
       "    <tr>\n",
       "      <th>1444</th>\n",
       "      <td>15</td>\n",
       "      <td>1444</td>\n",
       "      <td>Entertainment/public assembly</td>\n",
       "      <td>19619</td>\n",
       "      <td>1914.0</td>\n",
       "      <td>NaN</td>\n",
       "    </tr>\n",
       "    <tr>\n",
       "      <th>1445</th>\n",
       "      <td>15</td>\n",
       "      <td>1445</td>\n",
       "      <td>Education</td>\n",
       "      <td>4298</td>\n",
       "      <td>NaN</td>\n",
       "      <td>NaN</td>\n",
       "    </tr>\n",
       "    <tr>\n",
       "      <th>1446</th>\n",
       "      <td>15</td>\n",
       "      <td>1446</td>\n",
       "      <td>Entertainment/public assembly</td>\n",
       "      <td>11265</td>\n",
       "      <td>1997.0</td>\n",
       "      <td>NaN</td>\n",
       "    </tr>\n",
       "    <tr>\n",
       "      <th>1447</th>\n",
       "      <td>15</td>\n",
       "      <td>1447</td>\n",
       "      <td>Lodging/residential</td>\n",
       "      <td>29775</td>\n",
       "      <td>2001.0</td>\n",
       "      <td>NaN</td>\n",
       "    </tr>\n",
       "    <tr>\n",
       "      <th>1448</th>\n",
       "      <td>15</td>\n",
       "      <td>1448</td>\n",
       "      <td>Office</td>\n",
       "      <td>92271</td>\n",
       "      <td>2001.0</td>\n",
       "      <td>NaN</td>\n",
       "    </tr>\n",
       "  </tbody>\n",
       "</table>\n",
       "<p>1449 rows × 6 columns</p>\n",
       "</div>"
      ],
      "text/plain": [
       "      site_id  building_id                    primary_use  square_feet  \\\n",
       "0           0            0                      Education         7432   \n",
       "1           0            1                      Education         2720   \n",
       "2           0            2                      Education         5376   \n",
       "3           0            3                      Education        23685   \n",
       "4           0            4                      Education       116607   \n",
       "...       ...          ...                            ...          ...   \n",
       "1444       15         1444  Entertainment/public assembly        19619   \n",
       "1445       15         1445                      Education         4298   \n",
       "1446       15         1446  Entertainment/public assembly        11265   \n",
       "1447       15         1447            Lodging/residential        29775   \n",
       "1448       15         1448                         Office        92271   \n",
       "\n",
       "      year_built  floor_count  \n",
       "0         2008.0          NaN  \n",
       "1         2004.0          NaN  \n",
       "2         1991.0          NaN  \n",
       "3         2002.0          NaN  \n",
       "4         1975.0          NaN  \n",
       "...          ...          ...  \n",
       "1444      1914.0          NaN  \n",
       "1445         NaN          NaN  \n",
       "1446      1997.0          NaN  \n",
       "1447      2001.0          NaN  \n",
       "1448      2001.0          NaN  \n",
       "\n",
       "[1449 rows x 6 columns]"
      ]
     },
     "execution_count": 3,
     "metadata": {},
     "output_type": "execute_result"
    }
   ],
   "source": [
    "bmd"
   ]
  },
  {
   "cell_type": "code",
   "execution_count": 4,
   "metadata": {},
   "outputs": [],
   "source": [
    "full_df = pd.read_csv('train.csv',index_col='timestamp',parse_dates=True, infer_datetime_format=True)"
   ]
  },
  {
   "cell_type": "code",
   "execution_count": null,
   "metadata": {},
   "outputs": [],
   "source": []
  },
  {
   "cell_type": "code",
   "execution_count": 5,
   "metadata": {},
   "outputs": [],
   "source": [
    "## Function to reduce the DF size\n",
    "def reduce_mem_usage(df, verbose=True):\n",
    "    numerics = ['int16', 'int32', 'int64', 'float16', 'float32', 'float64']\n",
    "    start_mem = df.memory_usage().sum() / 1024**2    \n",
    "    for col in df.columns:\n",
    "        col_type = df[col].dtypes\n",
    "        if col_type in numerics:\n",
    "            c_min = df[col].min()\n",
    "            c_max = df[col].max()\n",
    "            if str(col_type)[:3] == 'int':\n",
    "                if c_min > np.iinfo(np.int8).min and c_max < np.iinfo(np.int8).max:\n",
    "                    df[col] = df[col].astype(np.int8)\n",
    "                elif c_min > np.iinfo(np.int16).min and c_max < np.iinfo(np.int16).max:\n",
    "                    df[col] = df[col].astype(np.int16)\n",
    "                elif c_min > np.iinfo(np.int32).min and c_max < np.iinfo(np.int32).max:\n",
    "                    df[col] = df[col].astype(np.int32)\n",
    "                elif c_min > np.iinfo(np.int64).min and c_max < np.iinfo(np.int64).max:\n",
    "                    df[col] = df[col].astype(np.int64)  \n",
    "            else:\n",
    "                if c_min > np.finfo(np.float16).min and c_max < np.finfo(np.float16).max:\n",
    "                    df[col] = df[col].astype(np.float16)\n",
    "                elif c_min > np.finfo(np.float32).min and c_max < np.finfo(np.float32).max:\n",
    "                    df[col] = df[col].astype(np.float32)\n",
    "                else:\n",
    "                    df[col] = df[col].astype(np.float64)    \n",
    "    end_mem = df.memory_usage().sum() / 1024**2\n",
    "    if verbose: print('Mem. usage decreased to {:5.2f} Mb ({:.1f}% reduction)'.format(end_mem, 100 * (start_mem - end_mem) / start_mem))\n",
    "    return df"
   ]
  },
  {
   "cell_type": "code",
   "execution_count": 6,
   "metadata": {},
   "outputs": [
    {
     "name": "stdout",
     "output_type": "stream",
     "text": [
      "Mem. usage decreased to 289.19 Mb (53.1% reduction)\n"
     ]
    }
   ],
   "source": [
    "full_df = reduce_mem_usage(full_df)"
   ]
  },
  {
   "cell_type": "code",
   "execution_count": 7,
   "metadata": {},
   "outputs": [
    {
     "data": {
      "text/html": [
       "<div>\n",
       "<style scoped>\n",
       "    .dataframe tbody tr th:only-of-type {\n",
       "        vertical-align: middle;\n",
       "    }\n",
       "\n",
       "    .dataframe tbody tr th {\n",
       "        vertical-align: top;\n",
       "    }\n",
       "\n",
       "    .dataframe thead th {\n",
       "        text-align: right;\n",
       "    }\n",
       "</style>\n",
       "<table border=\"1\" class=\"dataframe\">\n",
       "  <thead>\n",
       "    <tr style=\"text-align: right;\">\n",
       "      <th></th>\n",
       "      <th>building_id</th>\n",
       "      <th>meter</th>\n",
       "      <th>meter_reading</th>\n",
       "    </tr>\n",
       "    <tr>\n",
       "      <th>timestamp</th>\n",
       "      <th></th>\n",
       "      <th></th>\n",
       "      <th></th>\n",
       "    </tr>\n",
       "  </thead>\n",
       "  <tbody>\n",
       "    <tr>\n",
       "      <th>2016-01-01 00:00:00</th>\n",
       "      <td>0</td>\n",
       "      <td>0</td>\n",
       "      <td>0.000000</td>\n",
       "    </tr>\n",
       "    <tr>\n",
       "      <th>2016-01-01 00:00:00</th>\n",
       "      <td>1</td>\n",
       "      <td>0</td>\n",
       "      <td>0.000000</td>\n",
       "    </tr>\n",
       "    <tr>\n",
       "      <th>2016-01-01 00:00:00</th>\n",
       "      <td>2</td>\n",
       "      <td>0</td>\n",
       "      <td>0.000000</td>\n",
       "    </tr>\n",
       "    <tr>\n",
       "      <th>2016-01-01 00:00:00</th>\n",
       "      <td>3</td>\n",
       "      <td>0</td>\n",
       "      <td>0.000000</td>\n",
       "    </tr>\n",
       "    <tr>\n",
       "      <th>2016-01-01 00:00:00</th>\n",
       "      <td>4</td>\n",
       "      <td>0</td>\n",
       "      <td>0.000000</td>\n",
       "    </tr>\n",
       "    <tr>\n",
       "      <th>...</th>\n",
       "      <td>...</td>\n",
       "      <td>...</td>\n",
       "      <td>...</td>\n",
       "    </tr>\n",
       "    <tr>\n",
       "      <th>2016-12-31 23:00:00</th>\n",
       "      <td>1444</td>\n",
       "      <td>0</td>\n",
       "      <td>8.750000</td>\n",
       "    </tr>\n",
       "    <tr>\n",
       "      <th>2016-12-31 23:00:00</th>\n",
       "      <td>1445</td>\n",
       "      <td>0</td>\n",
       "      <td>4.825000</td>\n",
       "    </tr>\n",
       "    <tr>\n",
       "      <th>2016-12-31 23:00:00</th>\n",
       "      <td>1446</td>\n",
       "      <td>0</td>\n",
       "      <td>0.000000</td>\n",
       "    </tr>\n",
       "    <tr>\n",
       "      <th>2016-12-31 23:00:00</th>\n",
       "      <td>1447</td>\n",
       "      <td>0</td>\n",
       "      <td>159.574997</td>\n",
       "    </tr>\n",
       "    <tr>\n",
       "      <th>2016-12-31 23:00:00</th>\n",
       "      <td>1448</td>\n",
       "      <td>0</td>\n",
       "      <td>2.850000</td>\n",
       "    </tr>\n",
       "  </tbody>\n",
       "</table>\n",
       "<p>20216100 rows × 3 columns</p>\n",
       "</div>"
      ],
      "text/plain": [
       "                     building_id  meter  meter_reading\n",
       "timestamp                                             \n",
       "2016-01-01 00:00:00            0      0       0.000000\n",
       "2016-01-01 00:00:00            1      0       0.000000\n",
       "2016-01-01 00:00:00            2      0       0.000000\n",
       "2016-01-01 00:00:00            3      0       0.000000\n",
       "2016-01-01 00:00:00            4      0       0.000000\n",
       "...                          ...    ...            ...\n",
       "2016-12-31 23:00:00         1444      0       8.750000\n",
       "2016-12-31 23:00:00         1445      0       4.825000\n",
       "2016-12-31 23:00:00         1446      0       0.000000\n",
       "2016-12-31 23:00:00         1447      0     159.574997\n",
       "2016-12-31 23:00:00         1448      0       2.850000\n",
       "\n",
       "[20216100 rows x 3 columns]"
      ]
     },
     "execution_count": 7,
     "metadata": {},
     "output_type": "execute_result"
    }
   ],
   "source": [
    "full_df"
   ]
  },
  {
   "cell_type": "code",
   "execution_count": 8,
   "metadata": {},
   "outputs": [],
   "source": [
    "full_df = full_df[full_df['meter']==0]"
   ]
  },
  {
   "cell_type": "code",
   "execution_count": 9,
   "metadata": {},
   "outputs": [],
   "source": [
    "full_df = full_df.drop('meter', axis = 1)"
   ]
  },
  {
   "cell_type": "code",
   "execution_count": 10,
   "metadata": {},
   "outputs": [
    {
     "data": {
      "text/html": [
       "<div>\n",
       "<style scoped>\n",
       "    .dataframe tbody tr th:only-of-type {\n",
       "        vertical-align: middle;\n",
       "    }\n",
       "\n",
       "    .dataframe tbody tr th {\n",
       "        vertical-align: top;\n",
       "    }\n",
       "\n",
       "    .dataframe thead th {\n",
       "        text-align: right;\n",
       "    }\n",
       "</style>\n",
       "<table border=\"1\" class=\"dataframe\">\n",
       "  <thead>\n",
       "    <tr style=\"text-align: right;\">\n",
       "      <th></th>\n",
       "      <th>building_id</th>\n",
       "      <th>meter_reading</th>\n",
       "    </tr>\n",
       "    <tr>\n",
       "      <th>timestamp</th>\n",
       "      <th></th>\n",
       "      <th></th>\n",
       "    </tr>\n",
       "  </thead>\n",
       "  <tbody>\n",
       "    <tr>\n",
       "      <th>2016-01-01</th>\n",
       "      <td>0</td>\n",
       "      <td>0.0</td>\n",
       "    </tr>\n",
       "    <tr>\n",
       "      <th>2016-01-01</th>\n",
       "      <td>1</td>\n",
       "      <td>0.0</td>\n",
       "    </tr>\n",
       "    <tr>\n",
       "      <th>2016-01-01</th>\n",
       "      <td>2</td>\n",
       "      <td>0.0</td>\n",
       "    </tr>\n",
       "    <tr>\n",
       "      <th>2016-01-01</th>\n",
       "      <td>3</td>\n",
       "      <td>0.0</td>\n",
       "    </tr>\n",
       "    <tr>\n",
       "      <th>2016-01-01</th>\n",
       "      <td>4</td>\n",
       "      <td>0.0</td>\n",
       "    </tr>\n",
       "  </tbody>\n",
       "</table>\n",
       "</div>"
      ],
      "text/plain": [
       "            building_id  meter_reading\n",
       "timestamp                             \n",
       "2016-01-01            0            0.0\n",
       "2016-01-01            1            0.0\n",
       "2016-01-01            2            0.0\n",
       "2016-01-01            3            0.0\n",
       "2016-01-01            4            0.0"
      ]
     },
     "execution_count": 10,
     "metadata": {},
     "output_type": "execute_result"
    }
   ],
   "source": [
    "full_df.head()"
   ]
  },
  {
   "cell_type": "code",
   "execution_count": 11,
   "metadata": {},
   "outputs": [],
   "source": [
    "full_df_piv = pd.pivot_table(full_df, index=full_df.index, columns='building_id')"
   ]
  },
  {
   "cell_type": "code",
   "execution_count": 12,
   "metadata": {},
   "outputs": [
    {
     "data": {
      "text/html": [
       "<div>\n",
       "<style scoped>\n",
       "    .dataframe tbody tr th:only-of-type {\n",
       "        vertical-align: middle;\n",
       "    }\n",
       "\n",
       "    .dataframe tbody tr th {\n",
       "        vertical-align: top;\n",
       "    }\n",
       "\n",
       "    .dataframe thead tr th {\n",
       "        text-align: left;\n",
       "    }\n",
       "\n",
       "    .dataframe thead tr:last-of-type th {\n",
       "        text-align: right;\n",
       "    }\n",
       "</style>\n",
       "<table border=\"1\" class=\"dataframe\">\n",
       "  <thead>\n",
       "    <tr>\n",
       "      <th></th>\n",
       "      <th colspan=\"21\" halign=\"left\">meter_reading</th>\n",
       "    </tr>\n",
       "    <tr>\n",
       "      <th>building_id</th>\n",
       "      <th>0</th>\n",
       "      <th>1</th>\n",
       "      <th>2</th>\n",
       "      <th>3</th>\n",
       "      <th>4</th>\n",
       "      <th>5</th>\n",
       "      <th>6</th>\n",
       "      <th>7</th>\n",
       "      <th>8</th>\n",
       "      <th>9</th>\n",
       "      <th>...</th>\n",
       "      <th>1439</th>\n",
       "      <th>1440</th>\n",
       "      <th>1441</th>\n",
       "      <th>1442</th>\n",
       "      <th>1443</th>\n",
       "      <th>1444</th>\n",
       "      <th>1445</th>\n",
       "      <th>1446</th>\n",
       "      <th>1447</th>\n",
       "      <th>1448</th>\n",
       "    </tr>\n",
       "    <tr>\n",
       "      <th>timestamp</th>\n",
       "      <th></th>\n",
       "      <th></th>\n",
       "      <th></th>\n",
       "      <th></th>\n",
       "      <th></th>\n",
       "      <th></th>\n",
       "      <th></th>\n",
       "      <th></th>\n",
       "      <th></th>\n",
       "      <th></th>\n",
       "      <th></th>\n",
       "      <th></th>\n",
       "      <th></th>\n",
       "      <th></th>\n",
       "      <th></th>\n",
       "      <th></th>\n",
       "      <th></th>\n",
       "      <th></th>\n",
       "      <th></th>\n",
       "      <th></th>\n",
       "      <th></th>\n",
       "    </tr>\n",
       "  </thead>\n",
       "  <tbody>\n",
       "    <tr>\n",
       "      <th>2016-01-01 00:00:00</th>\n",
       "      <td>0.000000</td>\n",
       "      <td>0.000000</td>\n",
       "      <td>0.0000</td>\n",
       "      <td>0.000000</td>\n",
       "      <td>0.000000</td>\n",
       "      <td>0.000000</td>\n",
       "      <td>0.000000</td>\n",
       "      <td>0.000000</td>\n",
       "      <td>0.000000</td>\n",
       "      <td>0.000000</td>\n",
       "      <td>...</td>\n",
       "      <td>201.600006</td>\n",
       "      <td>160.949997</td>\n",
       "      <td>248.524994</td>\n",
       "      <td>54.625000</td>\n",
       "      <td>57.724998</td>\n",
       "      <td>5.425</td>\n",
       "      <td>4.800</td>\n",
       "      <td>0.0</td>\n",
       "      <td>160.199997</td>\n",
       "      <td>2.325</td>\n",
       "    </tr>\n",
       "    <tr>\n",
       "      <th>2016-01-01 01:00:00</th>\n",
       "      <td>0.000000</td>\n",
       "      <td>0.000000</td>\n",
       "      <td>0.0000</td>\n",
       "      <td>0.000000</td>\n",
       "      <td>0.000000</td>\n",
       "      <td>0.000000</td>\n",
       "      <td>0.000000</td>\n",
       "      <td>0.000000</td>\n",
       "      <td>0.000000</td>\n",
       "      <td>0.000000</td>\n",
       "      <td>...</td>\n",
       "      <td>204.649994</td>\n",
       "      <td>165.250000</td>\n",
       "      <td>259.375000</td>\n",
       "      <td>63.224998</td>\n",
       "      <td>63.349998</td>\n",
       "      <td>5.550</td>\n",
       "      <td>4.825</td>\n",
       "      <td>0.0</td>\n",
       "      <td>156.649994</td>\n",
       "      <td>2.225</td>\n",
       "    </tr>\n",
       "    <tr>\n",
       "      <th>2016-01-01 02:00:00</th>\n",
       "      <td>0.000000</td>\n",
       "      <td>0.000000</td>\n",
       "      <td>0.0000</td>\n",
       "      <td>0.000000</td>\n",
       "      <td>0.000000</td>\n",
       "      <td>0.000000</td>\n",
       "      <td>0.000000</td>\n",
       "      <td>0.000000</td>\n",
       "      <td>0.000000</td>\n",
       "      <td>0.000000</td>\n",
       "      <td>...</td>\n",
       "      <td>202.774994</td>\n",
       "      <td>161.675003</td>\n",
       "      <td>250.475006</td>\n",
       "      <td>53.674999</td>\n",
       "      <td>62.875000</td>\n",
       "      <td>5.900</td>\n",
       "      <td>5.125</td>\n",
       "      <td>0.0</td>\n",
       "      <td>157.574997</td>\n",
       "      <td>2.275</td>\n",
       "    </tr>\n",
       "    <tr>\n",
       "      <th>2016-01-01 03:00:00</th>\n",
       "      <td>0.000000</td>\n",
       "      <td>0.000000</td>\n",
       "      <td>0.0000</td>\n",
       "      <td>0.000000</td>\n",
       "      <td>0.000000</td>\n",
       "      <td>0.000000</td>\n",
       "      <td>0.000000</td>\n",
       "      <td>0.000000</td>\n",
       "      <td>0.000000</td>\n",
       "      <td>0.000000</td>\n",
       "      <td>...</td>\n",
       "      <td>199.800003</td>\n",
       "      <td>164.850006</td>\n",
       "      <td>259.625000</td>\n",
       "      <td>58.075001</td>\n",
       "      <td>64.250000</td>\n",
       "      <td>5.525</td>\n",
       "      <td>5.225</td>\n",
       "      <td>0.0</td>\n",
       "      <td>154.925003</td>\n",
       "      <td>2.575</td>\n",
       "    </tr>\n",
       "    <tr>\n",
       "      <th>2016-01-01 04:00:00</th>\n",
       "      <td>0.000000</td>\n",
       "      <td>0.000000</td>\n",
       "      <td>0.0000</td>\n",
       "      <td>0.000000</td>\n",
       "      <td>0.000000</td>\n",
       "      <td>0.000000</td>\n",
       "      <td>0.000000</td>\n",
       "      <td>0.000000</td>\n",
       "      <td>0.000000</td>\n",
       "      <td>0.000000</td>\n",
       "      <td>...</td>\n",
       "      <td>197.699997</td>\n",
       "      <td>158.750000</td>\n",
       "      <td>247.399994</td>\n",
       "      <td>58.500000</td>\n",
       "      <td>64.675003</td>\n",
       "      <td>5.725</td>\n",
       "      <td>5.250</td>\n",
       "      <td>0.0</td>\n",
       "      <td>156.074997</td>\n",
       "      <td>3.075</td>\n",
       "    </tr>\n",
       "    <tr>\n",
       "      <th>...</th>\n",
       "      <td>...</td>\n",
       "      <td>...</td>\n",
       "      <td>...</td>\n",
       "      <td>...</td>\n",
       "      <td>...</td>\n",
       "      <td>...</td>\n",
       "      <td>...</td>\n",
       "      <td>...</td>\n",
       "      <td>...</td>\n",
       "      <td>...</td>\n",
       "      <td>...</td>\n",
       "      <td>...</td>\n",
       "      <td>...</td>\n",
       "      <td>...</td>\n",
       "      <td>...</td>\n",
       "      <td>...</td>\n",
       "      <td>...</td>\n",
       "      <td>...</td>\n",
       "      <td>...</td>\n",
       "      <td>...</td>\n",
       "      <td>...</td>\n",
       "    </tr>\n",
       "    <tr>\n",
       "      <th>2016-12-31 19:00:00</th>\n",
       "      <td>232.070999</td>\n",
       "      <td>68.255997</td>\n",
       "      <td>4.9144</td>\n",
       "      <td>107.162003</td>\n",
       "      <td>1150.800049</td>\n",
       "      <td>10.238400</td>\n",
       "      <td>264.970001</td>\n",
       "      <td>550.825989</td>\n",
       "      <td>555.604004</td>\n",
       "      <td>61.430401</td>\n",
       "      <td>...</td>\n",
       "      <td>176.524994</td>\n",
       "      <td>165.824997</td>\n",
       "      <td>245.675003</td>\n",
       "      <td>61.500000</td>\n",
       "      <td>83.724998</td>\n",
       "      <td>8.525</td>\n",
       "      <td>5.750</td>\n",
       "      <td>0.0</td>\n",
       "      <td>167.800003</td>\n",
       "      <td>3.400</td>\n",
       "    </tr>\n",
       "    <tr>\n",
       "      <th>2016-12-31 20:00:00</th>\n",
       "      <td>189.069000</td>\n",
       "      <td>52.420601</td>\n",
       "      <td>5.3240</td>\n",
       "      <td>107.162003</td>\n",
       "      <td>1197.890015</td>\n",
       "      <td>18.770399</td>\n",
       "      <td>265.378998</td>\n",
       "      <td>593.145020</td>\n",
       "      <td>577.445984</td>\n",
       "      <td>61.430401</td>\n",
       "      <td>...</td>\n",
       "      <td>171.225006</td>\n",
       "      <td>163.875000</td>\n",
       "      <td>250.125000</td>\n",
       "      <td>55.474998</td>\n",
       "      <td>85.175003</td>\n",
       "      <td>8.950</td>\n",
       "      <td>5.850</td>\n",
       "      <td>0.0</td>\n",
       "      <td>168.149994</td>\n",
       "      <td>2.700</td>\n",
       "    </tr>\n",
       "    <tr>\n",
       "      <th>2016-12-31 21:00:00</th>\n",
       "      <td>169.957993</td>\n",
       "      <td>53.512699</td>\n",
       "      <td>5.7335</td>\n",
       "      <td>106.820999</td>\n",
       "      <td>1147.380005</td>\n",
       "      <td>9.214600</td>\n",
       "      <td>263.740997</td>\n",
       "      <td>557.992981</td>\n",
       "      <td>540.245972</td>\n",
       "      <td>63.068600</td>\n",
       "      <td>...</td>\n",
       "      <td>169.725006</td>\n",
       "      <td>162.399994</td>\n",
       "      <td>247.875000</td>\n",
       "      <td>61.924999</td>\n",
       "      <td>83.824997</td>\n",
       "      <td>8.700</td>\n",
       "      <td>5.725</td>\n",
       "      <td>0.0</td>\n",
       "      <td>164.074997</td>\n",
       "      <td>3.050</td>\n",
       "    </tr>\n",
       "    <tr>\n",
       "      <th>2016-12-31 22:00:00</th>\n",
       "      <td>169.957993</td>\n",
       "      <td>54.331799</td>\n",
       "      <td>4.9144</td>\n",
       "      <td>104.089996</td>\n",
       "      <td>1130.319946</td>\n",
       "      <td>17.405300</td>\n",
       "      <td>258.826996</td>\n",
       "      <td>551.849976</td>\n",
       "      <td>513.968018</td>\n",
       "      <td>61.840000</td>\n",
       "      <td>...</td>\n",
       "      <td>164.750000</td>\n",
       "      <td>154.699997</td>\n",
       "      <td>247.574997</td>\n",
       "      <td>58.349998</td>\n",
       "      <td>85.400002</td>\n",
       "      <td>8.950</td>\n",
       "      <td>5.775</td>\n",
       "      <td>0.0</td>\n",
       "      <td>158.800003</td>\n",
       "      <td>3.125</td>\n",
       "    </tr>\n",
       "    <tr>\n",
       "      <th>2016-12-31 23:00:00</th>\n",
       "      <td>175.417999</td>\n",
       "      <td>51.055500</td>\n",
       "      <td>4.9144</td>\n",
       "      <td>102.724998</td>\n",
       "      <td>1162.400024</td>\n",
       "      <td>8.873300</td>\n",
       "      <td>259.645996</td>\n",
       "      <td>535.468018</td>\n",
       "      <td>505.436005</td>\n",
       "      <td>61.840000</td>\n",
       "      <td>...</td>\n",
       "      <td>167.399994</td>\n",
       "      <td>154.750000</td>\n",
       "      <td>242.925003</td>\n",
       "      <td>59.400002</td>\n",
       "      <td>64.949997</td>\n",
       "      <td>8.750</td>\n",
       "      <td>4.825</td>\n",
       "      <td>0.0</td>\n",
       "      <td>159.574997</td>\n",
       "      <td>2.850</td>\n",
       "    </tr>\n",
       "  </tbody>\n",
       "</table>\n",
       "<p>8784 rows × 1413 columns</p>\n",
       "</div>"
      ],
      "text/plain": [
       "                    meter_reading                                              \\\n",
       "building_id                  0          1       2           3            4      \n",
       "timestamp                                                                       \n",
       "2016-01-01 00:00:00      0.000000   0.000000  0.0000    0.000000     0.000000   \n",
       "2016-01-01 01:00:00      0.000000   0.000000  0.0000    0.000000     0.000000   \n",
       "2016-01-01 02:00:00      0.000000   0.000000  0.0000    0.000000     0.000000   \n",
       "2016-01-01 03:00:00      0.000000   0.000000  0.0000    0.000000     0.000000   \n",
       "2016-01-01 04:00:00      0.000000   0.000000  0.0000    0.000000     0.000000   \n",
       "...                           ...        ...     ...         ...          ...   \n",
       "2016-12-31 19:00:00    232.070999  68.255997  4.9144  107.162003  1150.800049   \n",
       "2016-12-31 20:00:00    189.069000  52.420601  5.3240  107.162003  1197.890015   \n",
       "2016-12-31 21:00:00    169.957993  53.512699  5.7335  106.820999  1147.380005   \n",
       "2016-12-31 22:00:00    169.957993  54.331799  4.9144  104.089996  1130.319946   \n",
       "2016-12-31 23:00:00    175.417999  51.055500  4.9144  102.724998  1162.400024   \n",
       "\n",
       "                                                                               \\\n",
       "building_id               5           6           7           8          9      \n",
       "timestamp                                                                       \n",
       "2016-01-01 00:00:00   0.000000    0.000000    0.000000    0.000000   0.000000   \n",
       "2016-01-01 01:00:00   0.000000    0.000000    0.000000    0.000000   0.000000   \n",
       "2016-01-01 02:00:00   0.000000    0.000000    0.000000    0.000000   0.000000   \n",
       "2016-01-01 03:00:00   0.000000    0.000000    0.000000    0.000000   0.000000   \n",
       "2016-01-01 04:00:00   0.000000    0.000000    0.000000    0.000000   0.000000   \n",
       "...                        ...         ...         ...         ...        ...   \n",
       "2016-12-31 19:00:00  10.238400  264.970001  550.825989  555.604004  61.430401   \n",
       "2016-12-31 20:00:00  18.770399  265.378998  593.145020  577.445984  61.430401   \n",
       "2016-12-31 21:00:00   9.214600  263.740997  557.992981  540.245972  63.068600   \n",
       "2016-12-31 22:00:00  17.405300  258.826996  551.849976  513.968018  61.840000   \n",
       "2016-12-31 23:00:00   8.873300  259.645996  535.468018  505.436005  61.840000   \n",
       "\n",
       "                     ...                                                 \\\n",
       "building_id          ...        1439        1440        1441       1442   \n",
       "timestamp            ...                                                  \n",
       "2016-01-01 00:00:00  ...  201.600006  160.949997  248.524994  54.625000   \n",
       "2016-01-01 01:00:00  ...  204.649994  165.250000  259.375000  63.224998   \n",
       "2016-01-01 02:00:00  ...  202.774994  161.675003  250.475006  53.674999   \n",
       "2016-01-01 03:00:00  ...  199.800003  164.850006  259.625000  58.075001   \n",
       "2016-01-01 04:00:00  ...  197.699997  158.750000  247.399994  58.500000   \n",
       "...                  ...         ...         ...         ...        ...   \n",
       "2016-12-31 19:00:00  ...  176.524994  165.824997  245.675003  61.500000   \n",
       "2016-12-31 20:00:00  ...  171.225006  163.875000  250.125000  55.474998   \n",
       "2016-12-31 21:00:00  ...  169.725006  162.399994  247.875000  61.924999   \n",
       "2016-12-31 22:00:00  ...  164.750000  154.699997  247.574997  58.349998   \n",
       "2016-12-31 23:00:00  ...  167.399994  154.750000  242.925003  59.400002   \n",
       "\n",
       "                                                                      \n",
       "building_id               1443   1444   1445 1446        1447   1448  \n",
       "timestamp                                                             \n",
       "2016-01-01 00:00:00  57.724998  5.425  4.800  0.0  160.199997  2.325  \n",
       "2016-01-01 01:00:00  63.349998  5.550  4.825  0.0  156.649994  2.225  \n",
       "2016-01-01 02:00:00  62.875000  5.900  5.125  0.0  157.574997  2.275  \n",
       "2016-01-01 03:00:00  64.250000  5.525  5.225  0.0  154.925003  2.575  \n",
       "2016-01-01 04:00:00  64.675003  5.725  5.250  0.0  156.074997  3.075  \n",
       "...                        ...    ...    ...  ...         ...    ...  \n",
       "2016-12-31 19:00:00  83.724998  8.525  5.750  0.0  167.800003  3.400  \n",
       "2016-12-31 20:00:00  85.175003  8.950  5.850  0.0  168.149994  2.700  \n",
       "2016-12-31 21:00:00  83.824997  8.700  5.725  0.0  164.074997  3.050  \n",
       "2016-12-31 22:00:00  85.400002  8.950  5.775  0.0  158.800003  3.125  \n",
       "2016-12-31 23:00:00  64.949997  8.750  4.825  0.0  159.574997  2.850  \n",
       "\n",
       "[8784 rows x 1413 columns]"
      ]
     },
     "execution_count": 12,
     "metadata": {},
     "output_type": "execute_result"
    }
   ],
   "source": [
    "full_df_piv"
   ]
  },
  {
   "cell_type": "code",
   "execution_count": 13,
   "metadata": {},
   "outputs": [],
   "source": [
    "full_df_piv.columns = full_df_piv.columns.droplevel()"
   ]
  },
  {
   "cell_type": "code",
   "execution_count": 14,
   "metadata": {},
   "outputs": [
    {
     "data": {
      "text/html": [
       "<div>\n",
       "<style scoped>\n",
       "    .dataframe tbody tr th:only-of-type {\n",
       "        vertical-align: middle;\n",
       "    }\n",
       "\n",
       "    .dataframe tbody tr th {\n",
       "        vertical-align: top;\n",
       "    }\n",
       "\n",
       "    .dataframe thead th {\n",
       "        text-align: right;\n",
       "    }\n",
       "</style>\n",
       "<table border=\"1\" class=\"dataframe\">\n",
       "  <thead>\n",
       "    <tr style=\"text-align: right;\">\n",
       "      <th>building_id</th>\n",
       "      <th>0</th>\n",
       "      <th>1</th>\n",
       "      <th>2</th>\n",
       "      <th>3</th>\n",
       "      <th>4</th>\n",
       "      <th>5</th>\n",
       "      <th>6</th>\n",
       "      <th>7</th>\n",
       "      <th>8</th>\n",
       "      <th>9</th>\n",
       "      <th>...</th>\n",
       "      <th>1439</th>\n",
       "      <th>1440</th>\n",
       "      <th>1441</th>\n",
       "      <th>1442</th>\n",
       "      <th>1443</th>\n",
       "      <th>1444</th>\n",
       "      <th>1445</th>\n",
       "      <th>1446</th>\n",
       "      <th>1447</th>\n",
       "      <th>1448</th>\n",
       "    </tr>\n",
       "    <tr>\n",
       "      <th>timestamp</th>\n",
       "      <th></th>\n",
       "      <th></th>\n",
       "      <th></th>\n",
       "      <th></th>\n",
       "      <th></th>\n",
       "      <th></th>\n",
       "      <th></th>\n",
       "      <th></th>\n",
       "      <th></th>\n",
       "      <th></th>\n",
       "      <th></th>\n",
       "      <th></th>\n",
       "      <th></th>\n",
       "      <th></th>\n",
       "      <th></th>\n",
       "      <th></th>\n",
       "      <th></th>\n",
       "      <th></th>\n",
       "      <th></th>\n",
       "      <th></th>\n",
       "      <th></th>\n",
       "    </tr>\n",
       "  </thead>\n",
       "  <tbody>\n",
       "    <tr>\n",
       "      <th>2016-01-01 00:00:00</th>\n",
       "      <td>0.0</td>\n",
       "      <td>0.0</td>\n",
       "      <td>0.0</td>\n",
       "      <td>0.0</td>\n",
       "      <td>0.0</td>\n",
       "      <td>0.0</td>\n",
       "      <td>0.0</td>\n",
       "      <td>0.0</td>\n",
       "      <td>0.0</td>\n",
       "      <td>0.0</td>\n",
       "      <td>...</td>\n",
       "      <td>201.600006</td>\n",
       "      <td>160.949997</td>\n",
       "      <td>248.524994</td>\n",
       "      <td>54.625000</td>\n",
       "      <td>57.724998</td>\n",
       "      <td>5.425</td>\n",
       "      <td>4.800</td>\n",
       "      <td>0.0</td>\n",
       "      <td>160.199997</td>\n",
       "      <td>2.325</td>\n",
       "    </tr>\n",
       "    <tr>\n",
       "      <th>2016-01-01 01:00:00</th>\n",
       "      <td>0.0</td>\n",
       "      <td>0.0</td>\n",
       "      <td>0.0</td>\n",
       "      <td>0.0</td>\n",
       "      <td>0.0</td>\n",
       "      <td>0.0</td>\n",
       "      <td>0.0</td>\n",
       "      <td>0.0</td>\n",
       "      <td>0.0</td>\n",
       "      <td>0.0</td>\n",
       "      <td>...</td>\n",
       "      <td>204.649994</td>\n",
       "      <td>165.250000</td>\n",
       "      <td>259.375000</td>\n",
       "      <td>63.224998</td>\n",
       "      <td>63.349998</td>\n",
       "      <td>5.550</td>\n",
       "      <td>4.825</td>\n",
       "      <td>0.0</td>\n",
       "      <td>156.649994</td>\n",
       "      <td>2.225</td>\n",
       "    </tr>\n",
       "    <tr>\n",
       "      <th>2016-01-01 02:00:00</th>\n",
       "      <td>0.0</td>\n",
       "      <td>0.0</td>\n",
       "      <td>0.0</td>\n",
       "      <td>0.0</td>\n",
       "      <td>0.0</td>\n",
       "      <td>0.0</td>\n",
       "      <td>0.0</td>\n",
       "      <td>0.0</td>\n",
       "      <td>0.0</td>\n",
       "      <td>0.0</td>\n",
       "      <td>...</td>\n",
       "      <td>202.774994</td>\n",
       "      <td>161.675003</td>\n",
       "      <td>250.475006</td>\n",
       "      <td>53.674999</td>\n",
       "      <td>62.875000</td>\n",
       "      <td>5.900</td>\n",
       "      <td>5.125</td>\n",
       "      <td>0.0</td>\n",
       "      <td>157.574997</td>\n",
       "      <td>2.275</td>\n",
       "    </tr>\n",
       "    <tr>\n",
       "      <th>2016-01-01 03:00:00</th>\n",
       "      <td>0.0</td>\n",
       "      <td>0.0</td>\n",
       "      <td>0.0</td>\n",
       "      <td>0.0</td>\n",
       "      <td>0.0</td>\n",
       "      <td>0.0</td>\n",
       "      <td>0.0</td>\n",
       "      <td>0.0</td>\n",
       "      <td>0.0</td>\n",
       "      <td>0.0</td>\n",
       "      <td>...</td>\n",
       "      <td>199.800003</td>\n",
       "      <td>164.850006</td>\n",
       "      <td>259.625000</td>\n",
       "      <td>58.075001</td>\n",
       "      <td>64.250000</td>\n",
       "      <td>5.525</td>\n",
       "      <td>5.225</td>\n",
       "      <td>0.0</td>\n",
       "      <td>154.925003</td>\n",
       "      <td>2.575</td>\n",
       "    </tr>\n",
       "    <tr>\n",
       "      <th>2016-01-01 04:00:00</th>\n",
       "      <td>0.0</td>\n",
       "      <td>0.0</td>\n",
       "      <td>0.0</td>\n",
       "      <td>0.0</td>\n",
       "      <td>0.0</td>\n",
       "      <td>0.0</td>\n",
       "      <td>0.0</td>\n",
       "      <td>0.0</td>\n",
       "      <td>0.0</td>\n",
       "      <td>0.0</td>\n",
       "      <td>...</td>\n",
       "      <td>197.699997</td>\n",
       "      <td>158.750000</td>\n",
       "      <td>247.399994</td>\n",
       "      <td>58.500000</td>\n",
       "      <td>64.675003</td>\n",
       "      <td>5.725</td>\n",
       "      <td>5.250</td>\n",
       "      <td>0.0</td>\n",
       "      <td>156.074997</td>\n",
       "      <td>3.075</td>\n",
       "    </tr>\n",
       "  </tbody>\n",
       "</table>\n",
       "<p>5 rows × 1413 columns</p>\n",
       "</div>"
      ],
      "text/plain": [
       "building_id          0     1     2     3     4     5     6     7     8     \\\n",
       "timestamp                                                                   \n",
       "2016-01-01 00:00:00   0.0   0.0   0.0   0.0   0.0   0.0   0.0   0.0   0.0   \n",
       "2016-01-01 01:00:00   0.0   0.0   0.0   0.0   0.0   0.0   0.0   0.0   0.0   \n",
       "2016-01-01 02:00:00   0.0   0.0   0.0   0.0   0.0   0.0   0.0   0.0   0.0   \n",
       "2016-01-01 03:00:00   0.0   0.0   0.0   0.0   0.0   0.0   0.0   0.0   0.0   \n",
       "2016-01-01 04:00:00   0.0   0.0   0.0   0.0   0.0   0.0   0.0   0.0   0.0   \n",
       "\n",
       "building_id          9     ...        1439        1440        1441       1442  \\\n",
       "timestamp                  ...                                                  \n",
       "2016-01-01 00:00:00   0.0  ...  201.600006  160.949997  248.524994  54.625000   \n",
       "2016-01-01 01:00:00   0.0  ...  204.649994  165.250000  259.375000  63.224998   \n",
       "2016-01-01 02:00:00   0.0  ...  202.774994  161.675003  250.475006  53.674999   \n",
       "2016-01-01 03:00:00   0.0  ...  199.800003  164.850006  259.625000  58.075001   \n",
       "2016-01-01 04:00:00   0.0  ...  197.699997  158.750000  247.399994  58.500000   \n",
       "\n",
       "building_id               1443   1444   1445  1446        1447   1448  \n",
       "timestamp                                                              \n",
       "2016-01-01 00:00:00  57.724998  5.425  4.800   0.0  160.199997  2.325  \n",
       "2016-01-01 01:00:00  63.349998  5.550  4.825   0.0  156.649994  2.225  \n",
       "2016-01-01 02:00:00  62.875000  5.900  5.125   0.0  157.574997  2.275  \n",
       "2016-01-01 03:00:00  64.250000  5.525  5.225   0.0  154.925003  2.575  \n",
       "2016-01-01 04:00:00  64.675003  5.725  5.250   0.0  156.074997  3.075  \n",
       "\n",
       "[5 rows x 1413 columns]"
      ]
     },
     "execution_count": 14,
     "metadata": {},
     "output_type": "execute_result"
    }
   ],
   "source": [
    "full_df_piv.head()"
   ]
  },
  {
   "cell_type": "code",
   "execution_count": 15,
   "metadata": {},
   "outputs": [],
   "source": [
    "mean_usage = full_df_piv.mean(axis = 0) "
   ]
  },
  {
   "cell_type": "code",
   "execution_count": null,
   "metadata": {},
   "outputs": [],
   "source": []
  },
  {
   "cell_type": "code",
   "execution_count": 16,
   "metadata": {},
   "outputs": [
    {
     "data": {
      "text/plain": [
       "building_id\n",
       "0       146.454697\n",
       "1        74.865501\n",
       "2        14.551390\n",
       "3       235.549988\n",
       "4       976.557007\n",
       "           ...    \n",
       "1444      7.482129\n",
       "1445      4.732813\n",
       "1446      3.592165\n",
       "1447    187.117889\n",
       "1448      3.338596\n",
       "Length: 1413, dtype: float32"
      ]
     },
     "execution_count": 16,
     "metadata": {},
     "output_type": "execute_result"
    }
   ],
   "source": [
    "mean_usage"
   ]
  },
  {
   "cell_type": "code",
   "execution_count": 17,
   "metadata": {},
   "outputs": [
    {
     "data": {
      "text/plain": [
       "pandas.core.series.Series"
      ]
     },
     "execution_count": 17,
     "metadata": {},
     "output_type": "execute_result"
    }
   ],
   "source": [
    "type(mean_usage)"
   ]
  },
  {
   "cell_type": "code",
   "execution_count": 18,
   "metadata": {},
   "outputs": [],
   "source": [
    "mean_usage_df = mean_usage.to_frame(name='mean_usage')"
   ]
  },
  {
   "cell_type": "code",
   "execution_count": 19,
   "metadata": {},
   "outputs": [
    {
     "data": {
      "text/html": [
       "<div>\n",
       "<style scoped>\n",
       "    .dataframe tbody tr th:only-of-type {\n",
       "        vertical-align: middle;\n",
       "    }\n",
       "\n",
       "    .dataframe tbody tr th {\n",
       "        vertical-align: top;\n",
       "    }\n",
       "\n",
       "    .dataframe thead th {\n",
       "        text-align: right;\n",
       "    }\n",
       "</style>\n",
       "<table border=\"1\" class=\"dataframe\">\n",
       "  <thead>\n",
       "    <tr style=\"text-align: right;\">\n",
       "      <th></th>\n",
       "      <th>mean_usage</th>\n",
       "    </tr>\n",
       "    <tr>\n",
       "      <th>building_id</th>\n",
       "      <th></th>\n",
       "    </tr>\n",
       "  </thead>\n",
       "  <tbody>\n",
       "    <tr>\n",
       "      <th>0</th>\n",
       "      <td>146.454697</td>\n",
       "    </tr>\n",
       "    <tr>\n",
       "      <th>1</th>\n",
       "      <td>74.865501</td>\n",
       "    </tr>\n",
       "    <tr>\n",
       "      <th>2</th>\n",
       "      <td>14.551390</td>\n",
       "    </tr>\n",
       "    <tr>\n",
       "      <th>3</th>\n",
       "      <td>235.549988</td>\n",
       "    </tr>\n",
       "    <tr>\n",
       "      <th>4</th>\n",
       "      <td>976.557007</td>\n",
       "    </tr>\n",
       "    <tr>\n",
       "      <th>...</th>\n",
       "      <td>...</td>\n",
       "    </tr>\n",
       "    <tr>\n",
       "      <th>1444</th>\n",
       "      <td>7.482129</td>\n",
       "    </tr>\n",
       "    <tr>\n",
       "      <th>1445</th>\n",
       "      <td>4.732813</td>\n",
       "    </tr>\n",
       "    <tr>\n",
       "      <th>1446</th>\n",
       "      <td>3.592165</td>\n",
       "    </tr>\n",
       "    <tr>\n",
       "      <th>1447</th>\n",
       "      <td>187.117889</td>\n",
       "    </tr>\n",
       "    <tr>\n",
       "      <th>1448</th>\n",
       "      <td>3.338596</td>\n",
       "    </tr>\n",
       "  </tbody>\n",
       "</table>\n",
       "<p>1413 rows × 1 columns</p>\n",
       "</div>"
      ],
      "text/plain": [
       "             mean_usage\n",
       "building_id            \n",
       "0            146.454697\n",
       "1             74.865501\n",
       "2             14.551390\n",
       "3            235.549988\n",
       "4            976.557007\n",
       "...                 ...\n",
       "1444           7.482129\n",
       "1445           4.732813\n",
       "1446           3.592165\n",
       "1447         187.117889\n",
       "1448           3.338596\n",
       "\n",
       "[1413 rows x 1 columns]"
      ]
     },
     "execution_count": 19,
     "metadata": {},
     "output_type": "execute_result"
    }
   ],
   "source": [
    "mean_usage_df"
   ]
  },
  {
   "cell_type": "code",
   "execution_count": 20,
   "metadata": {},
   "outputs": [
    {
     "data": {
      "text/html": [
       "<div>\n",
       "<style scoped>\n",
       "    .dataframe tbody tr th:only-of-type {\n",
       "        vertical-align: middle;\n",
       "    }\n",
       "\n",
       "    .dataframe tbody tr th {\n",
       "        vertical-align: top;\n",
       "    }\n",
       "\n",
       "    .dataframe thead th {\n",
       "        text-align: right;\n",
       "    }\n",
       "</style>\n",
       "<table border=\"1\" class=\"dataframe\">\n",
       "  <thead>\n",
       "    <tr style=\"text-align: right;\">\n",
       "      <th></th>\n",
       "      <th>site_id</th>\n",
       "      <th>building_id</th>\n",
       "      <th>primary_use</th>\n",
       "      <th>square_feet</th>\n",
       "      <th>year_built</th>\n",
       "      <th>floor_count</th>\n",
       "    </tr>\n",
       "  </thead>\n",
       "  <tbody>\n",
       "    <tr>\n",
       "      <th>0</th>\n",
       "      <td>0</td>\n",
       "      <td>0</td>\n",
       "      <td>Education</td>\n",
       "      <td>7432</td>\n",
       "      <td>2008.0</td>\n",
       "      <td>NaN</td>\n",
       "    </tr>\n",
       "    <tr>\n",
       "      <th>1</th>\n",
       "      <td>0</td>\n",
       "      <td>1</td>\n",
       "      <td>Education</td>\n",
       "      <td>2720</td>\n",
       "      <td>2004.0</td>\n",
       "      <td>NaN</td>\n",
       "    </tr>\n",
       "    <tr>\n",
       "      <th>2</th>\n",
       "      <td>0</td>\n",
       "      <td>2</td>\n",
       "      <td>Education</td>\n",
       "      <td>5376</td>\n",
       "      <td>1991.0</td>\n",
       "      <td>NaN</td>\n",
       "    </tr>\n",
       "    <tr>\n",
       "      <th>3</th>\n",
       "      <td>0</td>\n",
       "      <td>3</td>\n",
       "      <td>Education</td>\n",
       "      <td>23685</td>\n",
       "      <td>2002.0</td>\n",
       "      <td>NaN</td>\n",
       "    </tr>\n",
       "    <tr>\n",
       "      <th>4</th>\n",
       "      <td>0</td>\n",
       "      <td>4</td>\n",
       "      <td>Education</td>\n",
       "      <td>116607</td>\n",
       "      <td>1975.0</td>\n",
       "      <td>NaN</td>\n",
       "    </tr>\n",
       "    <tr>\n",
       "      <th>...</th>\n",
       "      <td>...</td>\n",
       "      <td>...</td>\n",
       "      <td>...</td>\n",
       "      <td>...</td>\n",
       "      <td>...</td>\n",
       "      <td>...</td>\n",
       "    </tr>\n",
       "    <tr>\n",
       "      <th>1444</th>\n",
       "      <td>15</td>\n",
       "      <td>1444</td>\n",
       "      <td>Entertainment/public assembly</td>\n",
       "      <td>19619</td>\n",
       "      <td>1914.0</td>\n",
       "      <td>NaN</td>\n",
       "    </tr>\n",
       "    <tr>\n",
       "      <th>1445</th>\n",
       "      <td>15</td>\n",
       "      <td>1445</td>\n",
       "      <td>Education</td>\n",
       "      <td>4298</td>\n",
       "      <td>NaN</td>\n",
       "      <td>NaN</td>\n",
       "    </tr>\n",
       "    <tr>\n",
       "      <th>1446</th>\n",
       "      <td>15</td>\n",
       "      <td>1446</td>\n",
       "      <td>Entertainment/public assembly</td>\n",
       "      <td>11265</td>\n",
       "      <td>1997.0</td>\n",
       "      <td>NaN</td>\n",
       "    </tr>\n",
       "    <tr>\n",
       "      <th>1447</th>\n",
       "      <td>15</td>\n",
       "      <td>1447</td>\n",
       "      <td>Lodging/residential</td>\n",
       "      <td>29775</td>\n",
       "      <td>2001.0</td>\n",
       "      <td>NaN</td>\n",
       "    </tr>\n",
       "    <tr>\n",
       "      <th>1448</th>\n",
       "      <td>15</td>\n",
       "      <td>1448</td>\n",
       "      <td>Office</td>\n",
       "      <td>92271</td>\n",
       "      <td>2001.0</td>\n",
       "      <td>NaN</td>\n",
       "    </tr>\n",
       "  </tbody>\n",
       "</table>\n",
       "<p>1449 rows × 6 columns</p>\n",
       "</div>"
      ],
      "text/plain": [
       "      site_id  building_id                    primary_use  square_feet  \\\n",
       "0           0            0                      Education         7432   \n",
       "1           0            1                      Education         2720   \n",
       "2           0            2                      Education         5376   \n",
       "3           0            3                      Education        23685   \n",
       "4           0            4                      Education       116607   \n",
       "...       ...          ...                            ...          ...   \n",
       "1444       15         1444  Entertainment/public assembly        19619   \n",
       "1445       15         1445                      Education         4298   \n",
       "1446       15         1446  Entertainment/public assembly        11265   \n",
       "1447       15         1447            Lodging/residential        29775   \n",
       "1448       15         1448                         Office        92271   \n",
       "\n",
       "      year_built  floor_count  \n",
       "0         2008.0          NaN  \n",
       "1         2004.0          NaN  \n",
       "2         1991.0          NaN  \n",
       "3         2002.0          NaN  \n",
       "4         1975.0          NaN  \n",
       "...          ...          ...  \n",
       "1444      1914.0          NaN  \n",
       "1445         NaN          NaN  \n",
       "1446      1997.0          NaN  \n",
       "1447      2001.0          NaN  \n",
       "1448      2001.0          NaN  \n",
       "\n",
       "[1449 rows x 6 columns]"
      ]
     },
     "execution_count": 20,
     "metadata": {},
     "output_type": "execute_result"
    }
   ],
   "source": [
    "bmd"
   ]
  },
  {
   "cell_type": "code",
   "execution_count": null,
   "metadata": {},
   "outputs": [],
   "source": []
  },
  {
   "cell_type": "code",
   "execution_count": 21,
   "metadata": {},
   "outputs": [],
   "source": [
    "# Merge\n",
    "\n",
    "merged = bmd.merge(mean_usage_df, left_index=True, right_index=True, how='inner')"
   ]
  },
  {
   "cell_type": "code",
   "execution_count": 22,
   "metadata": {},
   "outputs": [
    {
     "data": {
      "text/html": [
       "<div>\n",
       "<style scoped>\n",
       "    .dataframe tbody tr th:only-of-type {\n",
       "        vertical-align: middle;\n",
       "    }\n",
       "\n",
       "    .dataframe tbody tr th {\n",
       "        vertical-align: top;\n",
       "    }\n",
       "\n",
       "    .dataframe thead th {\n",
       "        text-align: right;\n",
       "    }\n",
       "</style>\n",
       "<table border=\"1\" class=\"dataframe\">\n",
       "  <thead>\n",
       "    <tr style=\"text-align: right;\">\n",
       "      <th></th>\n",
       "      <th>site_id</th>\n",
       "      <th>building_id</th>\n",
       "      <th>primary_use</th>\n",
       "      <th>square_feet</th>\n",
       "      <th>year_built</th>\n",
       "      <th>floor_count</th>\n",
       "      <th>mean_usage</th>\n",
       "    </tr>\n",
       "  </thead>\n",
       "  <tbody>\n",
       "    <tr>\n",
       "      <th>0</th>\n",
       "      <td>0</td>\n",
       "      <td>0</td>\n",
       "      <td>Education</td>\n",
       "      <td>7432</td>\n",
       "      <td>2008.0</td>\n",
       "      <td>NaN</td>\n",
       "      <td>146.454697</td>\n",
       "    </tr>\n",
       "    <tr>\n",
       "      <th>1</th>\n",
       "      <td>0</td>\n",
       "      <td>1</td>\n",
       "      <td>Education</td>\n",
       "      <td>2720</td>\n",
       "      <td>2004.0</td>\n",
       "      <td>NaN</td>\n",
       "      <td>74.865501</td>\n",
       "    </tr>\n",
       "    <tr>\n",
       "      <th>2</th>\n",
       "      <td>0</td>\n",
       "      <td>2</td>\n",
       "      <td>Education</td>\n",
       "      <td>5376</td>\n",
       "      <td>1991.0</td>\n",
       "      <td>NaN</td>\n",
       "      <td>14.551390</td>\n",
       "    </tr>\n",
       "    <tr>\n",
       "      <th>3</th>\n",
       "      <td>0</td>\n",
       "      <td>3</td>\n",
       "      <td>Education</td>\n",
       "      <td>23685</td>\n",
       "      <td>2002.0</td>\n",
       "      <td>NaN</td>\n",
       "      <td>235.549988</td>\n",
       "    </tr>\n",
       "    <tr>\n",
       "      <th>4</th>\n",
       "      <td>0</td>\n",
       "      <td>4</td>\n",
       "      <td>Education</td>\n",
       "      <td>116607</td>\n",
       "      <td>1975.0</td>\n",
       "      <td>NaN</td>\n",
       "      <td>976.557007</td>\n",
       "    </tr>\n",
       "    <tr>\n",
       "      <th>...</th>\n",
       "      <td>...</td>\n",
       "      <td>...</td>\n",
       "      <td>...</td>\n",
       "      <td>...</td>\n",
       "      <td>...</td>\n",
       "      <td>...</td>\n",
       "      <td>...</td>\n",
       "    </tr>\n",
       "    <tr>\n",
       "      <th>1444</th>\n",
       "      <td>15</td>\n",
       "      <td>1444</td>\n",
       "      <td>Entertainment/public assembly</td>\n",
       "      <td>19619</td>\n",
       "      <td>1914.0</td>\n",
       "      <td>NaN</td>\n",
       "      <td>7.482129</td>\n",
       "    </tr>\n",
       "    <tr>\n",
       "      <th>1445</th>\n",
       "      <td>15</td>\n",
       "      <td>1445</td>\n",
       "      <td>Education</td>\n",
       "      <td>4298</td>\n",
       "      <td>NaN</td>\n",
       "      <td>NaN</td>\n",
       "      <td>4.732813</td>\n",
       "    </tr>\n",
       "    <tr>\n",
       "      <th>1446</th>\n",
       "      <td>15</td>\n",
       "      <td>1446</td>\n",
       "      <td>Entertainment/public assembly</td>\n",
       "      <td>11265</td>\n",
       "      <td>1997.0</td>\n",
       "      <td>NaN</td>\n",
       "      <td>3.592165</td>\n",
       "    </tr>\n",
       "    <tr>\n",
       "      <th>1447</th>\n",
       "      <td>15</td>\n",
       "      <td>1447</td>\n",
       "      <td>Lodging/residential</td>\n",
       "      <td>29775</td>\n",
       "      <td>2001.0</td>\n",
       "      <td>NaN</td>\n",
       "      <td>187.117889</td>\n",
       "    </tr>\n",
       "    <tr>\n",
       "      <th>1448</th>\n",
       "      <td>15</td>\n",
       "      <td>1448</td>\n",
       "      <td>Office</td>\n",
       "      <td>92271</td>\n",
       "      <td>2001.0</td>\n",
       "      <td>NaN</td>\n",
       "      <td>3.338596</td>\n",
       "    </tr>\n",
       "  </tbody>\n",
       "</table>\n",
       "<p>1413 rows × 7 columns</p>\n",
       "</div>"
      ],
      "text/plain": [
       "      site_id  building_id                    primary_use  square_feet  \\\n",
       "0           0            0                      Education         7432   \n",
       "1           0            1                      Education         2720   \n",
       "2           0            2                      Education         5376   \n",
       "3           0            3                      Education        23685   \n",
       "4           0            4                      Education       116607   \n",
       "...       ...          ...                            ...          ...   \n",
       "1444       15         1444  Entertainment/public assembly        19619   \n",
       "1445       15         1445                      Education         4298   \n",
       "1446       15         1446  Entertainment/public assembly        11265   \n",
       "1447       15         1447            Lodging/residential        29775   \n",
       "1448       15         1448                         Office        92271   \n",
       "\n",
       "      year_built  floor_count  mean_usage  \n",
       "0         2008.0          NaN  146.454697  \n",
       "1         2004.0          NaN   74.865501  \n",
       "2         1991.0          NaN   14.551390  \n",
       "3         2002.0          NaN  235.549988  \n",
       "4         1975.0          NaN  976.557007  \n",
       "...          ...          ...         ...  \n",
       "1444      1914.0          NaN    7.482129  \n",
       "1445         NaN          NaN    4.732813  \n",
       "1446      1997.0          NaN    3.592165  \n",
       "1447      2001.0          NaN  187.117889  \n",
       "1448      2001.0          NaN    3.338596  \n",
       "\n",
       "[1413 rows x 7 columns]"
      ]
     },
     "execution_count": 22,
     "metadata": {},
     "output_type": "execute_result"
    }
   ],
   "source": [
    "merged"
   ]
  },
  {
   "cell_type": "code",
   "execution_count": null,
   "metadata": {},
   "outputs": [],
   "source": []
  },
  {
   "cell_type": "code",
   "execution_count": null,
   "metadata": {},
   "outputs": [],
   "source": []
  },
  {
   "cell_type": "code",
   "execution_count": 23,
   "metadata": {},
   "outputs": [
    {
     "data": {
      "text/plain": [
       "Int64Index([   0,    1,    2,    3,    4,    5,    6,    7,    8,    9,\n",
       "            ...\n",
       "            1439, 1440, 1441, 1442, 1443, 1444, 1445, 1446, 1447, 1448],\n",
       "           dtype='int64', length=1413)"
      ]
     },
     "execution_count": 23,
     "metadata": {},
     "output_type": "execute_result"
    }
   ],
   "source": [
    "merged.index"
   ]
  },
  {
   "cell_type": "code",
   "execution_count": 24,
   "metadata": {},
   "outputs": [
    {
     "data": {
      "text/plain": [
       "site_id        False\n",
       "building_id    False\n",
       "primary_use    False\n",
       "square_feet    False\n",
       "year_built      True\n",
       "floor_count     True\n",
       "mean_usage     False\n",
       "dtype: bool"
      ]
     },
     "execution_count": 24,
     "metadata": {},
     "output_type": "execute_result"
    }
   ],
   "source": [
    "merged.isnull().any()"
   ]
  },
  {
   "cell_type": "code",
   "execution_count": 25,
   "metadata": {},
   "outputs": [
    {
     "data": {
      "text/plain": [
       "750"
      ]
     },
     "execution_count": 25,
     "metadata": {},
     "output_type": "execute_result"
    }
   ],
   "source": [
    "# 750 NaNs in series... that's quite alot -> will just remove\n",
    "merged['year_built'].isna().sum()"
   ]
  },
  {
   "cell_type": "code",
   "execution_count": 26,
   "metadata": {},
   "outputs": [
    {
     "data": {
      "text/plain": [
       "1061"
      ]
     },
     "execution_count": 26,
     "metadata": {},
     "output_type": "execute_result"
    }
   ],
   "source": [
    "# 1061 NaNs in series... that's quite alot -> will just remove\n",
    "merged['floor_count'].isna().sum()"
   ]
  },
  {
   "cell_type": "code",
   "execution_count": 27,
   "metadata": {},
   "outputs": [
    {
     "data": {
      "text/html": [
       "<div>\n",
       "<style scoped>\n",
       "    .dataframe tbody tr th:only-of-type {\n",
       "        vertical-align: middle;\n",
       "    }\n",
       "\n",
       "    .dataframe tbody tr th {\n",
       "        vertical-align: top;\n",
       "    }\n",
       "\n",
       "    .dataframe thead th {\n",
       "        text-align: right;\n",
       "    }\n",
       "</style>\n",
       "<table border=\"1\" class=\"dataframe\">\n",
       "  <thead>\n",
       "    <tr style=\"text-align: right;\">\n",
       "      <th></th>\n",
       "      <th>site_id</th>\n",
       "      <th>building_id</th>\n",
       "      <th>primary_use</th>\n",
       "      <th>square_feet</th>\n",
       "      <th>mean_usage</th>\n",
       "    </tr>\n",
       "  </thead>\n",
       "  <tbody>\n",
       "    <tr>\n",
       "      <th>0</th>\n",
       "      <td>0</td>\n",
       "      <td>0</td>\n",
       "      <td>Education</td>\n",
       "      <td>7432</td>\n",
       "      <td>146.454697</td>\n",
       "    </tr>\n",
       "    <tr>\n",
       "      <th>1</th>\n",
       "      <td>0</td>\n",
       "      <td>1</td>\n",
       "      <td>Education</td>\n",
       "      <td>2720</td>\n",
       "      <td>74.865501</td>\n",
       "    </tr>\n",
       "    <tr>\n",
       "      <th>2</th>\n",
       "      <td>0</td>\n",
       "      <td>2</td>\n",
       "      <td>Education</td>\n",
       "      <td>5376</td>\n",
       "      <td>14.551390</td>\n",
       "    </tr>\n",
       "    <tr>\n",
       "      <th>3</th>\n",
       "      <td>0</td>\n",
       "      <td>3</td>\n",
       "      <td>Education</td>\n",
       "      <td>23685</td>\n",
       "      <td>235.549988</td>\n",
       "    </tr>\n",
       "    <tr>\n",
       "      <th>4</th>\n",
       "      <td>0</td>\n",
       "      <td>4</td>\n",
       "      <td>Education</td>\n",
       "      <td>116607</td>\n",
       "      <td>976.557007</td>\n",
       "    </tr>\n",
       "    <tr>\n",
       "      <th>...</th>\n",
       "      <td>...</td>\n",
       "      <td>...</td>\n",
       "      <td>...</td>\n",
       "      <td>...</td>\n",
       "      <td>...</td>\n",
       "    </tr>\n",
       "    <tr>\n",
       "      <th>1444</th>\n",
       "      <td>15</td>\n",
       "      <td>1444</td>\n",
       "      <td>Entertainment/public assembly</td>\n",
       "      <td>19619</td>\n",
       "      <td>7.482129</td>\n",
       "    </tr>\n",
       "    <tr>\n",
       "      <th>1445</th>\n",
       "      <td>15</td>\n",
       "      <td>1445</td>\n",
       "      <td>Education</td>\n",
       "      <td>4298</td>\n",
       "      <td>4.732813</td>\n",
       "    </tr>\n",
       "    <tr>\n",
       "      <th>1446</th>\n",
       "      <td>15</td>\n",
       "      <td>1446</td>\n",
       "      <td>Entertainment/public assembly</td>\n",
       "      <td>11265</td>\n",
       "      <td>3.592165</td>\n",
       "    </tr>\n",
       "    <tr>\n",
       "      <th>1447</th>\n",
       "      <td>15</td>\n",
       "      <td>1447</td>\n",
       "      <td>Lodging/residential</td>\n",
       "      <td>29775</td>\n",
       "      <td>187.117889</td>\n",
       "    </tr>\n",
       "    <tr>\n",
       "      <th>1448</th>\n",
       "      <td>15</td>\n",
       "      <td>1448</td>\n",
       "      <td>Office</td>\n",
       "      <td>92271</td>\n",
       "      <td>3.338596</td>\n",
       "    </tr>\n",
       "  </tbody>\n",
       "</table>\n",
       "<p>1413 rows × 5 columns</p>\n",
       "</div>"
      ],
      "text/plain": [
       "      site_id  building_id                    primary_use  square_feet  \\\n",
       "0           0            0                      Education         7432   \n",
       "1           0            1                      Education         2720   \n",
       "2           0            2                      Education         5376   \n",
       "3           0            3                      Education        23685   \n",
       "4           0            4                      Education       116607   \n",
       "...       ...          ...                            ...          ...   \n",
       "1444       15         1444  Entertainment/public assembly        19619   \n",
       "1445       15         1445                      Education         4298   \n",
       "1446       15         1446  Entertainment/public assembly        11265   \n",
       "1447       15         1447            Lodging/residential        29775   \n",
       "1448       15         1448                         Office        92271   \n",
       "\n",
       "      mean_usage  \n",
       "0     146.454697  \n",
       "1      74.865501  \n",
       "2      14.551390  \n",
       "3     235.549988  \n",
       "4     976.557007  \n",
       "...          ...  \n",
       "1444    7.482129  \n",
       "1445    4.732813  \n",
       "1446    3.592165  \n",
       "1447  187.117889  \n",
       "1448    3.338596  \n",
       "\n",
       "[1413 rows x 5 columns]"
      ]
     },
     "execution_count": 27,
     "metadata": {},
     "output_type": "execute_result"
    }
   ],
   "source": [
    "merged.drop(['year_built', 'floor_count'], axis =1)"
   ]
  },
  {
   "cell_type": "code",
   "execution_count": 28,
   "metadata": {},
   "outputs": [],
   "source": [
    "cleaned_df = merged.drop(['year_built', 'floor_count'], axis =1)"
   ]
  },
  {
   "cell_type": "code",
   "execution_count": 29,
   "metadata": {},
   "outputs": [
    {
     "data": {
      "text/html": [
       "<div>\n",
       "<style scoped>\n",
       "    .dataframe tbody tr th:only-of-type {\n",
       "        vertical-align: middle;\n",
       "    }\n",
       "\n",
       "    .dataframe tbody tr th {\n",
       "        vertical-align: top;\n",
       "    }\n",
       "\n",
       "    .dataframe thead th {\n",
       "        text-align: right;\n",
       "    }\n",
       "</style>\n",
       "<table border=\"1\" class=\"dataframe\">\n",
       "  <thead>\n",
       "    <tr style=\"text-align: right;\">\n",
       "      <th></th>\n",
       "      <th>site_id</th>\n",
       "      <th>building_id</th>\n",
       "      <th>primary_use</th>\n",
       "      <th>square_feet</th>\n",
       "      <th>mean_usage</th>\n",
       "    </tr>\n",
       "  </thead>\n",
       "  <tbody>\n",
       "    <tr>\n",
       "      <th>0</th>\n",
       "      <td>0</td>\n",
       "      <td>0</td>\n",
       "      <td>Education</td>\n",
       "      <td>7432</td>\n",
       "      <td>146.454697</td>\n",
       "    </tr>\n",
       "    <tr>\n",
       "      <th>1</th>\n",
       "      <td>0</td>\n",
       "      <td>1</td>\n",
       "      <td>Education</td>\n",
       "      <td>2720</td>\n",
       "      <td>74.865501</td>\n",
       "    </tr>\n",
       "    <tr>\n",
       "      <th>2</th>\n",
       "      <td>0</td>\n",
       "      <td>2</td>\n",
       "      <td>Education</td>\n",
       "      <td>5376</td>\n",
       "      <td>14.551390</td>\n",
       "    </tr>\n",
       "    <tr>\n",
       "      <th>3</th>\n",
       "      <td>0</td>\n",
       "      <td>3</td>\n",
       "      <td>Education</td>\n",
       "      <td>23685</td>\n",
       "      <td>235.549988</td>\n",
       "    </tr>\n",
       "    <tr>\n",
       "      <th>4</th>\n",
       "      <td>0</td>\n",
       "      <td>4</td>\n",
       "      <td>Education</td>\n",
       "      <td>116607</td>\n",
       "      <td>976.557007</td>\n",
       "    </tr>\n",
       "    <tr>\n",
       "      <th>...</th>\n",
       "      <td>...</td>\n",
       "      <td>...</td>\n",
       "      <td>...</td>\n",
       "      <td>...</td>\n",
       "      <td>...</td>\n",
       "    </tr>\n",
       "    <tr>\n",
       "      <th>1444</th>\n",
       "      <td>15</td>\n",
       "      <td>1444</td>\n",
       "      <td>Entertainment/public assembly</td>\n",
       "      <td>19619</td>\n",
       "      <td>7.482129</td>\n",
       "    </tr>\n",
       "    <tr>\n",
       "      <th>1445</th>\n",
       "      <td>15</td>\n",
       "      <td>1445</td>\n",
       "      <td>Education</td>\n",
       "      <td>4298</td>\n",
       "      <td>4.732813</td>\n",
       "    </tr>\n",
       "    <tr>\n",
       "      <th>1446</th>\n",
       "      <td>15</td>\n",
       "      <td>1446</td>\n",
       "      <td>Entertainment/public assembly</td>\n",
       "      <td>11265</td>\n",
       "      <td>3.592165</td>\n",
       "    </tr>\n",
       "    <tr>\n",
       "      <th>1447</th>\n",
       "      <td>15</td>\n",
       "      <td>1447</td>\n",
       "      <td>Lodging/residential</td>\n",
       "      <td>29775</td>\n",
       "      <td>187.117889</td>\n",
       "    </tr>\n",
       "    <tr>\n",
       "      <th>1448</th>\n",
       "      <td>15</td>\n",
       "      <td>1448</td>\n",
       "      <td>Office</td>\n",
       "      <td>92271</td>\n",
       "      <td>3.338596</td>\n",
       "    </tr>\n",
       "  </tbody>\n",
       "</table>\n",
       "<p>1413 rows × 5 columns</p>\n",
       "</div>"
      ],
      "text/plain": [
       "      site_id  building_id                    primary_use  square_feet  \\\n",
       "0           0            0                      Education         7432   \n",
       "1           0            1                      Education         2720   \n",
       "2           0            2                      Education         5376   \n",
       "3           0            3                      Education        23685   \n",
       "4           0            4                      Education       116607   \n",
       "...       ...          ...                            ...          ...   \n",
       "1444       15         1444  Entertainment/public assembly        19619   \n",
       "1445       15         1445                      Education         4298   \n",
       "1446       15         1446  Entertainment/public assembly        11265   \n",
       "1447       15         1447            Lodging/residential        29775   \n",
       "1448       15         1448                         Office        92271   \n",
       "\n",
       "      mean_usage  \n",
       "0     146.454697  \n",
       "1      74.865501  \n",
       "2      14.551390  \n",
       "3     235.549988  \n",
       "4     976.557007  \n",
       "...          ...  \n",
       "1444    7.482129  \n",
       "1445    4.732813  \n",
       "1446    3.592165  \n",
       "1447  187.117889  \n",
       "1448    3.338596  \n",
       "\n",
       "[1413 rows x 5 columns]"
      ]
     },
     "execution_count": 29,
     "metadata": {},
     "output_type": "execute_result"
    }
   ],
   "source": [
    "cleaned_df "
   ]
  },
  {
   "cell_type": "code",
   "execution_count": 30,
   "metadata": {},
   "outputs": [
    {
     "data": {
      "text/plain": [
       "4650.169921875"
      ]
     },
     "execution_count": 30,
     "metadata": {},
     "output_type": "execute_result"
    }
   ],
   "source": [
    "cleaned_df['mean_usage'].max()"
   ]
  },
  {
   "cell_type": "code",
   "execution_count": 31,
   "metadata": {},
   "outputs": [
    {
     "data": {
      "text/html": [
       "<div>\n",
       "<style scoped>\n",
       "    .dataframe tbody tr th:only-of-type {\n",
       "        vertical-align: middle;\n",
       "    }\n",
       "\n",
       "    .dataframe tbody tr th {\n",
       "        vertical-align: top;\n",
       "    }\n",
       "\n",
       "    .dataframe thead th {\n",
       "        text-align: right;\n",
       "    }\n",
       "</style>\n",
       "<table border=\"1\" class=\"dataframe\">\n",
       "  <thead>\n",
       "    <tr style=\"text-align: right;\">\n",
       "      <th></th>\n",
       "      <th>site_id</th>\n",
       "      <th>building_id</th>\n",
       "      <th>square_feet</th>\n",
       "      <th>mean_usage</th>\n",
       "    </tr>\n",
       "  </thead>\n",
       "  <tbody>\n",
       "    <tr>\n",
       "      <th>count</th>\n",
       "      <td>1413.000000</td>\n",
       "      <td>1413.000000</td>\n",
       "      <td>1413.000000</td>\n",
       "      <td>1413.000000</td>\n",
       "    </tr>\n",
       "    <tr>\n",
       "      <th>mean</th>\n",
       "      <td>6.842180</td>\n",
       "      <td>714.958953</td>\n",
       "      <td>92204.792640</td>\n",
       "      <td>169.801117</td>\n",
       "    </tr>\n",
       "    <tr>\n",
       "      <th>std</th>\n",
       "      <td>4.985376</td>\n",
       "      <td>418.115709</td>\n",
       "      <td>111412.340117</td>\n",
       "      <td>334.306732</td>\n",
       "    </tr>\n",
       "    <tr>\n",
       "      <th>min</th>\n",
       "      <td>0.000000</td>\n",
       "      <td>0.000000</td>\n",
       "      <td>283.000000</td>\n",
       "      <td>0.000400</td>\n",
       "    </tr>\n",
       "    <tr>\n",
       "      <th>25%</th>\n",
       "      <td>3.000000</td>\n",
       "      <td>353.000000</td>\n",
       "      <td>22949.000000</td>\n",
       "      <td>26.393579</td>\n",
       "    </tr>\n",
       "    <tr>\n",
       "      <th>50%</th>\n",
       "      <td>5.000000</td>\n",
       "      <td>706.000000</td>\n",
       "      <td>57673.000000</td>\n",
       "      <td>71.222099</td>\n",
       "    </tr>\n",
       "    <tr>\n",
       "      <th>75%</th>\n",
       "      <td>13.000000</td>\n",
       "      <td>1073.000000</td>\n",
       "      <td>115288.000000</td>\n",
       "      <td>171.028519</td>\n",
       "    </tr>\n",
       "    <tr>\n",
       "      <th>max</th>\n",
       "      <td>15.000000</td>\n",
       "      <td>1448.000000</td>\n",
       "      <td>875000.000000</td>\n",
       "      <td>4650.169922</td>\n",
       "    </tr>\n",
       "  </tbody>\n",
       "</table>\n",
       "</div>"
      ],
      "text/plain": [
       "           site_id  building_id    square_feet   mean_usage\n",
       "count  1413.000000  1413.000000    1413.000000  1413.000000\n",
       "mean      6.842180   714.958953   92204.792640   169.801117\n",
       "std       4.985376   418.115709  111412.340117   334.306732\n",
       "min       0.000000     0.000000     283.000000     0.000400\n",
       "25%       3.000000   353.000000   22949.000000    26.393579\n",
       "50%       5.000000   706.000000   57673.000000    71.222099\n",
       "75%      13.000000  1073.000000  115288.000000   171.028519\n",
       "max      15.000000  1448.000000  875000.000000  4650.169922"
      ]
     },
     "execution_count": 31,
     "metadata": {},
     "output_type": "execute_result"
    }
   ],
   "source": [
    "cleaned_df.describe()"
   ]
  },
  {
   "cell_type": "code",
   "execution_count": 32,
   "metadata": {},
   "outputs": [
    {
     "data": {
      "text/plain": [
       "<matplotlib.axes._subplots.AxesSubplot at 0x7f8787b2bb50>"
      ]
     },
     "execution_count": 32,
     "metadata": {},
     "output_type": "execute_result"
    },
    {
     "data": {
      "image/png": "[encoded data removed]",
      "text/plain": [
       "<Figure size 432x288 with 1 Axes>"
      ]
     },
     "metadata": {
      "needs_background": "light"
     },
     "output_type": "display_data"
    }
   ],
   "source": [
    "cleaned_df.plot()"
   ]
  },
  {
   "cell_type": "code",
   "execution_count": null,
   "metadata": {},
   "outputs": [],
   "source": []
  },
  {
   "cell_type": "code",
   "execution_count": 33,
   "metadata": {},
   "outputs": [],
   "source": [
    "# Later i can feature engineer something for these removed columns"
   ]
  },
  {
   "cell_type": "code",
   "execution_count": 34,
   "metadata": {},
   "outputs": [],
   "source": [
    "# Huge discrepancy among mean energy usage!! -> Will train model on top 99%"
   ]
  },
  {
   "cell_type": "code",
   "execution_count": 35,
   "metadata": {},
   "outputs": [],
   "source": [
    "#1413*0.99 -> around 1400"
   ]
  },
  {
   "cell_type": "code",
   "execution_count": 36,
   "metadata": {},
   "outputs": [
    {
     "data": {
      "text/html": [
       "<div>\n",
       "<style scoped>\n",
       "    .dataframe tbody tr th:only-of-type {\n",
       "        vertical-align: middle;\n",
       "    }\n",
       "\n",
       "    .dataframe tbody tr th {\n",
       "        vertical-align: top;\n",
       "    }\n",
       "\n",
       "    .dataframe thead th {\n",
       "        text-align: right;\n",
       "    }\n",
       "</style>\n",
       "<table border=\"1\" class=\"dataframe\">\n",
       "  <thead>\n",
       "    <tr style=\"text-align: right;\">\n",
       "      <th></th>\n",
       "      <th>site_id</th>\n",
       "      <th>building_id</th>\n",
       "      <th>primary_use</th>\n",
       "      <th>square_feet</th>\n",
       "      <th>mean_usage</th>\n",
       "    </tr>\n",
       "  </thead>\n",
       "  <tbody>\n",
       "    <tr>\n",
       "      <th>740</th>\n",
       "      <td>5</td>\n",
       "      <td>740</td>\n",
       "      <td>Education</td>\n",
       "      <td>37975</td>\n",
       "      <td>0.000400</td>\n",
       "    </tr>\n",
       "    <tr>\n",
       "      <th>817</th>\n",
       "      <td>8</td>\n",
       "      <td>817</td>\n",
       "      <td>Entertainment/public assembly</td>\n",
       "      <td>984</td>\n",
       "      <td>0.171072</td>\n",
       "    </tr>\n",
       "    <tr>\n",
       "      <th>815</th>\n",
       "      <td>8</td>\n",
       "      <td>815</td>\n",
       "      <td>Entertainment/public assembly</td>\n",
       "      <td>666</td>\n",
       "      <td>0.175285</td>\n",
       "    </tr>\n",
       "    <tr>\n",
       "      <th>636</th>\n",
       "      <td>4</td>\n",
       "      <td>636</td>\n",
       "      <td>Education</td>\n",
       "      <td>6564</td>\n",
       "      <td>0.184486</td>\n",
       "    </tr>\n",
       "    <tr>\n",
       "      <th>637</th>\n",
       "      <td>4</td>\n",
       "      <td>637</td>\n",
       "      <td>Education</td>\n",
       "      <td>4189</td>\n",
       "      <td>0.200081</td>\n",
       "    </tr>\n",
       "    <tr>\n",
       "      <th>...</th>\n",
       "      <td>...</td>\n",
       "      <td>...</td>\n",
       "      <td>...</td>\n",
       "      <td>...</td>\n",
       "      <td>...</td>\n",
       "    </tr>\n",
       "    <tr>\n",
       "      <th>993</th>\n",
       "      <td>9</td>\n",
       "      <td>993</td>\n",
       "      <td>Education</td>\n",
       "      <td>428647</td>\n",
       "      <td>1398.935791</td>\n",
       "    </tr>\n",
       "    <tr>\n",
       "      <th>1159</th>\n",
       "      <td>13</td>\n",
       "      <td>1159</td>\n",
       "      <td>Office</td>\n",
       "      <td>671507</td>\n",
       "      <td>1422.077148</td>\n",
       "    </tr>\n",
       "    <tr>\n",
       "      <th>1156</th>\n",
       "      <td>13</td>\n",
       "      <td>1156</td>\n",
       "      <td>Education</td>\n",
       "      <td>259989</td>\n",
       "      <td>1479.001343</td>\n",
       "    </tr>\n",
       "    <tr>\n",
       "      <th>869</th>\n",
       "      <td>8</td>\n",
       "      <td>869</td>\n",
       "      <td>Entertainment/public assembly</td>\n",
       "      <td>875000</td>\n",
       "      <td>1513.606445</td>\n",
       "    </tr>\n",
       "    <tr>\n",
       "      <th>645</th>\n",
       "      <td>4</td>\n",
       "      <td>645</td>\n",
       "      <td>Education</td>\n",
       "      <td>304333</td>\n",
       "      <td>1538.965820</td>\n",
       "    </tr>\n",
       "  </tbody>\n",
       "</table>\n",
       "<p>1400 rows × 5 columns</p>\n",
       "</div>"
      ],
      "text/plain": [
       "      site_id  building_id                    primary_use  square_feet  \\\n",
       "740         5          740                      Education        37975   \n",
       "817         8          817  Entertainment/public assembly          984   \n",
       "815         8          815  Entertainment/public assembly          666   \n",
       "636         4          636                      Education         6564   \n",
       "637         4          637                      Education         4189   \n",
       "...       ...          ...                            ...          ...   \n",
       "993         9          993                      Education       428647   \n",
       "1159       13         1159                         Office       671507   \n",
       "1156       13         1156                      Education       259989   \n",
       "869         8          869  Entertainment/public assembly       875000   \n",
       "645         4          645                      Education       304333   \n",
       "\n",
       "       mean_usage  \n",
       "740      0.000400  \n",
       "817      0.171072  \n",
       "815      0.175285  \n",
       "636      0.184486  \n",
       "637      0.200081  \n",
       "...           ...  \n",
       "993   1398.935791  \n",
       "1159  1422.077148  \n",
       "1156  1479.001343  \n",
       "869   1513.606445  \n",
       "645   1538.965820  \n",
       "\n",
       "[1400 rows x 5 columns]"
      ]
     },
     "execution_count": 36,
     "metadata": {},
     "output_type": "execute_result"
    }
   ],
   "source": [
    "cleaned_df.nsmallest(1400,'mean_usage')"
   ]
  },
  {
   "cell_type": "code",
   "execution_count": 37,
   "metadata": {},
   "outputs": [],
   "source": [
    "cleaned_df = cleaned_df.nsmallest(1400,'mean_usage')"
   ]
  },
  {
   "cell_type": "code",
   "execution_count": 38,
   "metadata": {},
   "outputs": [
    {
     "data": {
      "text/plain": [
       "array(['Education', 'Entertainment/public assembly', 'Other',\n",
       "       'Lodging/residential', 'Office', 'Public services',\n",
       "       'Religious worship', 'Retail', 'Warehouse/storage',\n",
       "       'Manufacturing/industrial', 'Parking', 'Healthcare', 'Services',\n",
       "       'Technology/science', 'Utility', 'Food sales and service'],\n",
       "      dtype=object)"
      ]
     },
     "execution_count": 38,
     "metadata": {},
     "output_type": "execute_result"
    }
   ],
   "source": [
    "cleaned_df['primary_use'].unique()"
   ]
  },
  {
   "cell_type": "code",
   "execution_count": 39,
   "metadata": {},
   "outputs": [],
   "source": [
    "#cleaned_df = cleaned_df.drop('site_id', axis = 1)"
   ]
  },
  {
   "cell_type": "code",
   "execution_count": 40,
   "metadata": {},
   "outputs": [],
   "source": [
    "# Want to predict energy usage -> y"
   ]
  },
  {
   "cell_type": "code",
   "execution_count": 41,
   "metadata": {},
   "outputs": [],
   "source": [
    "cleaned_df.index = cleaned_df['building_id']"
   ]
  },
  {
   "cell_type": "code",
   "execution_count": 42,
   "metadata": {},
   "outputs": [],
   "source": [
    "new_cleaned = cleaned_df.drop(['site_id', 'building_id'], axis = 1)"
   ]
  },
  {
   "cell_type": "code",
   "execution_count": 43,
   "metadata": {},
   "outputs": [
    {
     "data": {
      "text/plain": [
       "building_id\n",
       "740        0.000400\n",
       "817        0.171072\n",
       "815        0.175285\n",
       "636        0.184486\n",
       "637        0.200081\n",
       "           ...     \n",
       "993     1398.935791\n",
       "1159    1422.077148\n",
       "1156    1479.001343\n",
       "869     1513.606445\n",
       "645     1538.965820\n",
       "Name: mean_usage, Length: 1400, dtype: float32"
      ]
     },
     "execution_count": 43,
     "metadata": {},
     "output_type": "execute_result"
    }
   ],
   "source": [
    "cleaned_df.iloc[:,-1]"
   ]
  },
  {
   "cell_type": "code",
   "execution_count": 44,
   "metadata": {},
   "outputs": [
    {
     "data": {
      "text/html": [
       "<div>\n",
       "<style scoped>\n",
       "    .dataframe tbody tr th:only-of-type {\n",
       "        vertical-align: middle;\n",
       "    }\n",
       "\n",
       "    .dataframe tbody tr th {\n",
       "        vertical-align: top;\n",
       "    }\n",
       "\n",
       "    .dataframe thead th {\n",
       "        text-align: right;\n",
       "    }\n",
       "</style>\n",
       "<table border=\"1\" class=\"dataframe\">\n",
       "  <thead>\n",
       "    <tr style=\"text-align: right;\">\n",
       "      <th></th>\n",
       "      <th>primary_use</th>\n",
       "      <th>square_feet</th>\n",
       "      <th>mean_usage</th>\n",
       "    </tr>\n",
       "    <tr>\n",
       "      <th>building_id</th>\n",
       "      <th></th>\n",
       "      <th></th>\n",
       "      <th></th>\n",
       "    </tr>\n",
       "  </thead>\n",
       "  <tbody>\n",
       "    <tr>\n",
       "      <th>740</th>\n",
       "      <td>Education</td>\n",
       "      <td>37975</td>\n",
       "      <td>0.000400</td>\n",
       "    </tr>\n",
       "    <tr>\n",
       "      <th>817</th>\n",
       "      <td>Entertainment/public assembly</td>\n",
       "      <td>984</td>\n",
       "      <td>0.171072</td>\n",
       "    </tr>\n",
       "    <tr>\n",
       "      <th>815</th>\n",
       "      <td>Entertainment/public assembly</td>\n",
       "      <td>666</td>\n",
       "      <td>0.175285</td>\n",
       "    </tr>\n",
       "    <tr>\n",
       "      <th>636</th>\n",
       "      <td>Education</td>\n",
       "      <td>6564</td>\n",
       "      <td>0.184486</td>\n",
       "    </tr>\n",
       "    <tr>\n",
       "      <th>637</th>\n",
       "      <td>Education</td>\n",
       "      <td>4189</td>\n",
       "      <td>0.200081</td>\n",
       "    </tr>\n",
       "    <tr>\n",
       "      <th>...</th>\n",
       "      <td>...</td>\n",
       "      <td>...</td>\n",
       "      <td>...</td>\n",
       "    </tr>\n",
       "    <tr>\n",
       "      <th>993</th>\n",
       "      <td>Education</td>\n",
       "      <td>428647</td>\n",
       "      <td>1398.935791</td>\n",
       "    </tr>\n",
       "    <tr>\n",
       "      <th>1159</th>\n",
       "      <td>Office</td>\n",
       "      <td>671507</td>\n",
       "      <td>1422.077148</td>\n",
       "    </tr>\n",
       "    <tr>\n",
       "      <th>1156</th>\n",
       "      <td>Education</td>\n",
       "      <td>259989</td>\n",
       "      <td>1479.001343</td>\n",
       "    </tr>\n",
       "    <tr>\n",
       "      <th>869</th>\n",
       "      <td>Entertainment/public assembly</td>\n",
       "      <td>875000</td>\n",
       "      <td>1513.606445</td>\n",
       "    </tr>\n",
       "    <tr>\n",
       "      <th>645</th>\n",
       "      <td>Education</td>\n",
       "      <td>304333</td>\n",
       "      <td>1538.965820</td>\n",
       "    </tr>\n",
       "  </tbody>\n",
       "</table>\n",
       "<p>1400 rows × 3 columns</p>\n",
       "</div>"
      ],
      "text/plain": [
       "                               primary_use  square_feet   mean_usage\n",
       "building_id                                                         \n",
       "740                              Education        37975     0.000400\n",
       "817          Entertainment/public assembly          984     0.171072\n",
       "815          Entertainment/public assembly          666     0.175285\n",
       "636                              Education         6564     0.184486\n",
       "637                              Education         4189     0.200081\n",
       "...                                    ...          ...          ...\n",
       "993                              Education       428647  1398.935791\n",
       "1159                                Office       671507  1422.077148\n",
       "1156                             Education       259989  1479.001343\n",
       "869          Entertainment/public assembly       875000  1513.606445\n",
       "645                              Education       304333  1538.965820\n",
       "\n",
       "[1400 rows x 3 columns]"
      ]
     },
     "execution_count": 44,
     "metadata": {},
     "output_type": "execute_result"
    }
   ],
   "source": [
    "new_cleaned"
   ]
  },
  {
   "cell_type": "code",
   "execution_count": 45,
   "metadata": {},
   "outputs": [
    {
     "data": {
      "text/plain": [
       "<matplotlib.axes._subplots.AxesSubplot at 0x7f867736d210>"
      ]
     },
     "execution_count": 45,
     "metadata": {},
     "output_type": "execute_result"
    },
    {
     "data": {
      "image/png": "[encoded data removed]",
      "text/plain": [
       "<Figure size 432x288 with 1 Axes>"
      ]
     },
     "metadata": {
      "needs_background": "light"
     },
     "output_type": "display_data"
    }
   ],
   "source": [
    "sns.distplot(new_cleaned['mean_usage'], bins = 50)"
   ]
  },
  {
   "cell_type": "code",
   "execution_count": 46,
   "metadata": {},
   "outputs": [
    {
     "data": {
      "text/plain": [
       "<matplotlib.axes._subplots.AxesSubplot at 0x7f867150e2d0>"
      ]
     },
     "execution_count": 46,
     "metadata": {},
     "output_type": "execute_result"
    },
    {
     "data": {
      "image/png": "[encoded data removed]",
      "text/plain": [
       "<Figure size 432x288 with 1 Axes>"
      ]
     },
     "metadata": {
      "needs_background": "light"
     },
     "output_type": "display_data"
    }
   ],
   "source": [
    "sns.distplot(new_cleaned['square_feet'], bins = 50)"
   ]
  },
  {
   "cell_type": "code",
   "execution_count": 47,
   "metadata": {},
   "outputs": [
    {
     "data": {
      "text/plain": [
       "<seaborn.axisgrid.JointGrid at 0x7f8671603290>"
      ]
     },
     "execution_count": 47,
     "metadata": {},
     "output_type": "execute_result"
    },
    {
     "data": {
      "image/png": "[encoded data removed]",
      "text/plain": [
       "<Figure size 432x432 with 3 Axes>"
      ]
     },
     "metadata": {
      "needs_background": "light"
     },
     "output_type": "display_data"
    }
   ],
   "source": [
    "sns.jointplot(x=new_cleaned['mean_usage'], y=new_cleaned['square_feet'],kind=\"reg\",color=\"#4CB391\")"
   ]
  },
  {
   "cell_type": "code",
   "execution_count": 48,
   "metadata": {},
   "outputs": [
    {
     "data": {
      "text/plain": [
       "<seaborn.axisgrid.JointGrid at 0x7f86717abb10>"
      ]
     },
     "execution_count": 48,
     "metadata": {},
     "output_type": "execute_result"
    },
    {
     "data": {
      "image/png": "[encoded data removed]",
      "text/plain": [
       "<Figure size 432x432 with 3 Axes>"
      ]
     },
     "metadata": {
      "needs_background": "light"
     },
     "output_type": "display_data"
    }
   ],
   "source": [
    "sns.jointplot(x=new_cleaned['mean_usage'], y=new_cleaned['square_feet'],kind=\"kde\",color=\"#4CB391\")"
   ]
  },
  {
   "cell_type": "code",
   "execution_count": 49,
   "metadata": {},
   "outputs": [],
   "source": [
    "# There is no clear relationship between building size and usage...except for smaller buildings!"
   ]
  },
  {
   "cell_type": "code",
   "execution_count": 50,
   "metadata": {},
   "outputs": [],
   "source": [
    "# Can one hot encode this"
   ]
  },
  {
   "cell_type": "code",
   "execution_count": 51,
   "metadata": {},
   "outputs": [],
   "source": [
    "X = new_cleaned.iloc[:,0:-1].values\n",
    "y = new_cleaned.iloc[:,-1].values"
   ]
  },
  {
   "cell_type": "code",
   "execution_count": 52,
   "metadata": {},
   "outputs": [
    {
     "data": {
      "text/plain": [
       "array([['Education', 37975],\n",
       "       ['Entertainment/public assembly', 984],\n",
       "       ['Entertainment/public assembly', 666],\n",
       "       ...,\n",
       "       ['Education', 259989],\n",
       "       ['Entertainment/public assembly', 875000],\n",
       "       ['Education', 304333]], dtype=object)"
      ]
     },
     "execution_count": 52,
     "metadata": {},
     "output_type": "execute_result"
    }
   ],
   "source": [
    "X"
   ]
  },
  {
   "cell_type": "code",
   "execution_count": 53,
   "metadata": {},
   "outputs": [
    {
     "data": {
      "text/plain": [
       "array([3.9999245e-04, 1.7107156e-01, 1.7528506e-01, ..., 1.4790013e+03,\n",
       "       1.5136064e+03, 1.5389658e+03], dtype=float32)"
      ]
     },
     "execution_count": 53,
     "metadata": {},
     "output_type": "execute_result"
    }
   ],
   "source": [
    "y"
   ]
  },
  {
   "cell_type": "code",
   "execution_count": null,
   "metadata": {},
   "outputs": [],
   "source": []
  },
  {
   "cell_type": "code",
   "execution_count": null,
   "metadata": {},
   "outputs": [],
   "source": []
  },
  {
   "cell_type": "code",
   "execution_count": 54,
   "metadata": {},
   "outputs": [],
   "source": [
    "# One Hot Encoding the \"Primary Use\" column\n",
    "from sklearn.compose import ColumnTransformer\n",
    "from sklearn.preprocessing import OneHotEncoder\n",
    "ct = ColumnTransformer(transformers=[('encoder', OneHotEncoder(), [0])], remainder='passthrough')\n"
   ]
  },
  {
   "cell_type": "code",
   "execution_count": 55,
   "metadata": {},
   "outputs": [
    {
     "data": {
      "text/plain": [
       "ColumnTransformer(n_jobs=None, remainder='passthrough', sparse_threshold=0.3,\n",
       "                  transformer_weights=None,\n",
       "                  transformers=[('encoder',\n",
       "                                 OneHotEncoder(categories='auto', drop=None,\n",
       "                                               dtype=<class 'numpy.float64'>,\n",
       "                                               handle_unknown='error',\n",
       "                                               sparse=True),\n",
       "                                 [0])],\n",
       "                  verbose=False)"
      ]
     },
     "execution_count": 55,
     "metadata": {},
     "output_type": "execute_result"
    }
   ],
   "source": [
    "ct"
   ]
  },
  {
   "cell_type": "code",
   "execution_count": 56,
   "metadata": {},
   "outputs": [],
   "source": [
    "X = ct.fit_transform(X).toarray()\n"
   ]
  },
  {
   "cell_type": "code",
   "execution_count": 57,
   "metadata": {},
   "outputs": [
    {
     "data": {
      "text/plain": [
       "(1400, 17)"
      ]
     },
     "execution_count": 57,
     "metadata": {},
     "output_type": "execute_result"
    }
   ],
   "source": [
    "X.shape"
   ]
  },
  {
   "cell_type": "code",
   "execution_count": 58,
   "metadata": {},
   "outputs": [
    {
     "data": {
      "text/plain": [
       "<function sklearn.model_selection._split.train_test_split(*arrays, **options)>"
      ]
     },
     "execution_count": 58,
     "metadata": {},
     "output_type": "execute_result"
    }
   ],
   "source": [
    "from sklearn.model_selection import train_test_split\n",
    "train_test_split"
   ]
  },
  {
   "cell_type": "code",
   "execution_count": 59,
   "metadata": {},
   "outputs": [],
   "source": [
    "X_train, X_test, y_train, y_test = train_test_split(X, y, test_size = 0.2, random_state = 0)"
   ]
  },
  {
   "cell_type": "code",
   "execution_count": 108,
   "metadata": {},
   "outputs": [],
   "source": [
    "#Now scale!\n",
    "from sklearn.preprocessing import StandardScaler"
   ]
  },
  {
   "cell_type": "code",
   "execution_count": 109,
   "metadata": {},
   "outputs": [],
   "source": [
    "scaler = StandardScaler()"
   ]
  },
  {
   "cell_type": "code",
   "execution_count": 110,
   "metadata": {},
   "outputs": [],
   "source": [
    "X_train = scaler.fit_transform(X_train)\n",
    "X_test = scaler.transform(X_test)"
   ]
  },
  {
   "cell_type": "code",
   "execution_count": 111,
   "metadata": {},
   "outputs": [],
   "source": [
    "#Get ANN\n",
    "from tensorflow.keras.models import Sequential\n",
    "from tensorflow.keras.layers import Dense"
   ]
  },
  {
   "cell_type": "code",
   "execution_count": 112,
   "metadata": {},
   "outputs": [
    {
     "data": {
      "text/plain": [
       "(1120, 17)"
      ]
     },
     "execution_count": 112,
     "metadata": {},
     "output_type": "execute_result"
    }
   ],
   "source": [
    "X_train.shape"
   ]
  },
  {
   "cell_type": "code",
   "execution_count": 113,
   "metadata": {},
   "outputs": [],
   "source": [
    "# Need 19 neurons per layer"
   ]
  },
  {
   "cell_type": "code",
   "execution_count": 114,
   "metadata": {},
   "outputs": [],
   "source": [
    "model = Sequential()\n",
    "model.add(Dense(17,activation='relu'))\n",
    "model.add(Dense(17,activation='relu'))\n",
    "model.add(Dense(17,activation='relu'))\n",
    "model.add(Dense(17,activation='relu'))\n",
    "model.add(Dense(17,activation='relu'))\n",
    "model.add(Dense(17,activation='relu'))\n",
    "model.add(Dense(17,activation='relu'))\n",
    "\n",
    "model.add(Dense(1))\n",
    "\n",
    "model.compile(optimizer='adam', loss=tf.keras.losses.MeanSquaredError())"
   ]
  },
  {
   "cell_type": "code",
   "execution_count": 115,
   "metadata": {},
   "outputs": [],
   "source": [
    "from tensorflow.keras.callbacks import EarlyStopping #Callback"
   ]
  },
  {
   "cell_type": "code",
   "execution_count": 116,
   "metadata": {},
   "outputs": [],
   "source": [
    "early_stop = EarlyStopping(monitor='val_loss', mode = 'min', verbose = 1, patience = 25)\n",
    "#Could maximise accuracy..."
   ]
  },
  {
   "cell_type": "code",
   "execution_count": 117,
   "metadata": {},
   "outputs": [
    {
     "name": "stdout",
     "output_type": "stream",
     "text": [
      "Epoch 1/600\n",
      "35/35 [==============================] - 0s 5ms/step - loss: 65497.1367 - val_loss: 71143.9375\n",
      "Epoch 2/600\n",
      "35/35 [==============================] - 0s 3ms/step - loss: 64931.0352 - val_loss: 69334.2188\n",
      "Epoch 3/600\n",
      "35/35 [==============================] - 0s 3ms/step - loss: 58963.2227 - val_loss: 54700.6719\n",
      "Epoch 4/600\n",
      "35/35 [==============================] - 0s 3ms/step - loss: 43339.8516 - val_loss: 42500.1602\n",
      "Epoch 5/600\n",
      "35/35 [==============================] - 0s 3ms/step - loss: 36391.0547 - val_loss: 37876.8086\n",
      "Epoch 6/600\n",
      "35/35 [==============================] - 0s 3ms/step - loss: 32205.0898 - val_loss: 33661.2930\n",
      "Epoch 7/600\n",
      "35/35 [==============================] - 0s 3ms/step - loss: 28516.0820 - val_loss: 28491.8027\n",
      "Epoch 8/600\n",
      "35/35 [==============================] - 0s 3ms/step - loss: 25721.4375 - val_loss: 26159.6035\n",
      "Epoch 9/600\n",
      "35/35 [==============================] - 0s 2ms/step - loss: 24123.1113 - val_loss: 23599.1895\n",
      "Epoch 10/600\n",
      "35/35 [==============================] - 0s 3ms/step - loss: 23381.6309 - val_loss: 24732.3320\n",
      "Epoch 11/600\n",
      "35/35 [==============================] - 0s 3ms/step - loss: 23005.1367 - val_loss: 23232.8594\n",
      "Epoch 12/600\n",
      "35/35 [==============================] - 0s 3ms/step - loss: 22993.6777 - val_loss: 23891.5645\n",
      "Epoch 13/600\n",
      "35/35 [==============================] - 0s 3ms/step - loss: 22924.6719 - val_loss: 25567.8906\n",
      "Epoch 14/600\n",
      "35/35 [==============================] - 0s 3ms/step - loss: 22885.2070 - val_loss: 22773.3809\n",
      "Epoch 15/600\n",
      "35/35 [==============================] - 0s 2ms/step - loss: 22395.1777 - val_loss: 24058.7285\n",
      "Epoch 16/600\n",
      "35/35 [==============================] - 0s 2ms/step - loss: 22398.7383 - val_loss: 22111.4062\n",
      "Epoch 17/600\n",
      "35/35 [==============================] - 0s 3ms/step - loss: 22247.5781 - val_loss: 23523.4375\n",
      "Epoch 18/600\n",
      "35/35 [==============================] - 0s 2ms/step - loss: 22256.8262 - val_loss: 22294.3496\n",
      "Epoch 19/600\n",
      "35/35 [==============================] - 0s 3ms/step - loss: 22448.6855 - val_loss: 24234.4980\n",
      "Epoch 20/600\n",
      "35/35 [==============================] - 0s 2ms/step - loss: 22161.8652 - val_loss: 22176.4473\n",
      "Epoch 21/600\n",
      "35/35 [==============================] - 0s 3ms/step - loss: 22268.7324 - val_loss: 23460.8047\n",
      "Epoch 22/600\n",
      "35/35 [==============================] - 0s 2ms/step - loss: 22199.2422 - val_loss: 24631.5176\n",
      "Epoch 23/600\n",
      "35/35 [==============================] - 0s 3ms/step - loss: 21992.9277 - val_loss: 22727.2598\n",
      "Epoch 24/600\n",
      "35/35 [==============================] - 0s 2ms/step - loss: 21866.1250 - val_loss: 23112.5371\n",
      "Epoch 25/600\n",
      "35/35 [==============================] - 0s 3ms/step - loss: 21974.4062 - val_loss: 22500.2402\n",
      "Epoch 26/600\n",
      "35/35 [==============================] - 0s 3ms/step - loss: 22025.0352 - val_loss: 23311.2598\n",
      "Epoch 27/600\n",
      "35/35 [==============================] - 0s 3ms/step - loss: 22091.1426 - val_loss: 22696.1973\n",
      "Epoch 28/600\n",
      "35/35 [==============================] - 0s 3ms/step - loss: 21749.1309 - val_loss: 23419.9707\n",
      "Epoch 29/600\n",
      "35/35 [==============================] - 0s 3ms/step - loss: 21792.8086 - val_loss: 23705.4355\n",
      "Epoch 30/600\n",
      "35/35 [==============================] - 0s 3ms/step - loss: 21842.6172 - val_loss: 23314.5312\n",
      "Epoch 31/600\n",
      "35/35 [==============================] - 0s 3ms/step - loss: 21769.3379 - val_loss: 23780.0000\n",
      "Epoch 32/600\n",
      "35/35 [==============================] - 0s 3ms/step - loss: 21791.9062 - val_loss: 23246.9609\n",
      "Epoch 33/600\n",
      "35/35 [==============================] - 0s 3ms/step - loss: 21816.3555 - val_loss: 22371.2812\n",
      "Epoch 34/600\n",
      "35/35 [==============================] - 0s 2ms/step - loss: 21795.6777 - val_loss: 23078.6133\n",
      "Epoch 35/600\n",
      "35/35 [==============================] - 0s 2ms/step - loss: 21982.2949 - val_loss: 23622.6680\n",
      "Epoch 36/600\n",
      "35/35 [==============================] - 0s 3ms/step - loss: 21814.5762 - val_loss: 23854.1406\n",
      "Epoch 37/600\n",
      "35/35 [==============================] - 0s 2ms/step - loss: 21721.0117 - val_loss: 22967.7012\n",
      "Epoch 38/600\n",
      "35/35 [==============================] - 0s 3ms/step - loss: 21612.1680 - val_loss: 22800.3164\n",
      "Epoch 39/600\n",
      "35/35 [==============================] - 0s 3ms/step - loss: 21611.9766 - val_loss: 23185.4746\n",
      "Epoch 40/600\n",
      "35/35 [==============================] - 0s 3ms/step - loss: 21667.8125 - val_loss: 22620.6367\n",
      "Epoch 41/600\n",
      "35/35 [==============================] - 0s 3ms/step - loss: 21726.3477 - val_loss: 22234.7207\n",
      "Epoch 00041: early stopping\n"
     ]
    },
    {
     "data": {
      "text/plain": [
       "<tensorflow.python.keras.callbacks.History at 0x7f86774ed890>"
      ]
     },
     "execution_count": 117,
     "metadata": {},
     "output_type": "execute_result"
    }
   ],
   "source": [
    "model.fit(x = X_train, y = y_train, epochs = 600, validation_data=(X_test,y_test),\n",
    "         callbacks = [early_stop])"
   ]
  },
  {
   "cell_type": "code",
   "execution_count": 118,
   "metadata": {},
   "outputs": [],
   "source": [
    "model_loss = pd.DataFrame(model.history.history)"
   ]
  },
  {
   "cell_type": "code",
   "execution_count": 119,
   "metadata": {},
   "outputs": [
    {
     "data": {
      "text/plain": [
       "<matplotlib.axes._subplots.AxesSubplot at 0x7f8677e5ca10>"
      ]
     },
     "execution_count": 119,
     "metadata": {},
     "output_type": "execute_result"
    },
    {
     "data": {
      "image/png": "[encoded data removed]",
      "text/plain": [
       "<Figure size 432x288 with 1 Axes>"
      ]
     },
     "metadata": {
      "needs_background": "light"
     },
     "output_type": "display_data"
    }
   ],
   "source": [
    "model_loss.plot()"
   ]
  },
  {
   "cell_type": "code",
   "execution_count": 120,
   "metadata": {},
   "outputs": [],
   "source": [
    "from sklearn.metrics import mean_absolute_error, mean_squared_error, explained_variance_score"
   ]
  },
  {
   "cell_type": "code",
   "execution_count": 121,
   "metadata": {},
   "outputs": [],
   "source": [
    "#Make predictions\n",
    "predicitions = model.predict(X_test)"
   ]
  },
  {
   "cell_type": "code",
   "execution_count": 122,
   "metadata": {},
   "outputs": [
    {
     "data": {
      "text/plain": [
       "22234.72"
      ]
     },
     "execution_count": 122,
     "metadata": {},
     "output_type": "execute_result"
    }
   ],
   "source": [
    "\n",
    "mean_squared_error(y_test,predicitions)"
   ]
  },
  {
   "cell_type": "code",
   "execution_count": null,
   "metadata": {},
   "outputs": [],
   "source": []
  },
  {
   "cell_type": "code",
   "execution_count": null,
   "metadata": {},
   "outputs": [],
   "source": []
  },
  {
   "cell_type": "code",
   "execution_count": 123,
   "metadata": {},
   "outputs": [
    {
     "data": {
      "text/plain": [
       "149.11311"
      ]
     },
     "execution_count": 123,
     "metadata": {},
     "output_type": "execute_result"
    }
   ],
   "source": [
    "#RMS error\n",
    "np.sqrt(mean_squared_error(y_test,predicitions))"
   ]
  },
  {
   "cell_type": "code",
   "execution_count": 124,
   "metadata": {},
   "outputs": [
    {
     "data": {
      "text/plain": [
       "80.99693"
      ]
     },
     "execution_count": 124,
     "metadata": {},
     "output_type": "execute_result"
    }
   ],
   "source": [
    "#mean absolute error\n",
    "mean_absolute_error(y_test,predicitions)"
   ]
  },
  {
   "cell_type": "code",
   "execution_count": 125,
   "metadata": {},
   "outputs": [],
   "source": [
    "# Accurate to within 77 kWh"
   ]
  },
  {
   "cell_type": "code",
   "execution_count": 126,
   "metadata": {},
   "outputs": [
    {
     "data": {
      "text/plain": [
       "0.5546813011169434"
      ]
     },
     "execution_count": 126,
     "metadata": {},
     "output_type": "execute_result"
    }
   ],
   "source": [
    "#best score is 1.0 -> how much variance is being explained by the model??\n",
    "explained_variance_score(y_test,predicitions)"
   ]
  },
  {
   "cell_type": "code",
   "execution_count": 79,
   "metadata": {},
   "outputs": [
    {
     "data": {
      "text/plain": [
       "[<matplotlib.lines.Line2D at 0x7f8672dbde90>]"
      ]
     },
     "execution_count": 79,
     "metadata": {},
     "output_type": "execute_result"
    },
    {
     "data": {
      "image/png": "[encoded data removed]",
      "text/plain": [
       "<Figure size 864x432 with 1 Axes>"
      ]
     },
     "metadata": {
      "needs_background": "light"
     },
     "output_type": "display_data"
    }
   ],
   "source": [
    "#Plot predicitions vs perfect fit\n",
    "plt.figure(figsize=(12,6))\n",
    "plt.scatter(y_test,predicitions)\n",
    "plt.plot(y_test,y_test, 'r')\n"
   ]
  },
  {
   "cell_type": "code",
   "execution_count": 80,
   "metadata": {},
   "outputs": [],
   "source": [
    "#Massive buildings are messing up the ANN"
   ]
  },
  {
   "cell_type": "code",
   "execution_count": null,
   "metadata": {},
   "outputs": [],
   "source": []
  },
  {
   "cell_type": "code",
   "execution_count": null,
   "metadata": {},
   "outputs": [],
   "source": []
  },
  {
   "cell_type": "code",
   "execution_count": null,
   "metadata": {},
   "outputs": [],
   "source": []
  },
  {
   "cell_type": "code",
   "execution_count": null,
   "metadata": {},
   "outputs": [],
   "source": []
  },
  {
   "cell_type": "code",
   "execution_count": null,
   "metadata": {},
   "outputs": [],
   "source": []
  },
  {
   "cell_type": "code",
   "execution_count": null,
   "metadata": {},
   "outputs": [],
   "source": []
  },
  {
   "cell_type": "code",
   "execution_count": 81,
   "metadata": {},
   "outputs": [
    {
     "name": "stdout",
     "output_type": "stream",
     "text": [
      "[[2.56e+02 1.99e+02]\n",
      " [5.62e+01 2.14e+01]\n",
      " [9.45e+01 8.47e+01]\n",
      " [7.12e+01 4.21e+01]\n",
      " [3.25e+02 1.71e+02]\n",
      " [4.52e+02 6.80e+02]\n",
      " [2.38e+02 5.18e+02]\n",
      " [4.77e+01 3.81e+01]\n",
      " [7.68e+01 1.45e+02]\n",
      " [3.08e+01 4.42e+01]\n",
      " [2.42e+01 1.38e+01]\n",
      " [1.13e+02 1.84e+02]\n",
      " [2.10e+01 9.26e+00]\n",
      " [9.49e+01 6.65e+01]\n",
      " [4.07e+01 1.17e+02]\n",
      " [9.12e+00 1.50e+01]\n",
      " [1.77e+02 1.09e+02]\n",
      " [4.34e+01 2.83e+01]\n",
      " [2.53e+02 2.30e+02]\n",
      " [3.63e+01 3.87e+02]\n",
      " [1.76e+02 1.94e+02]\n",
      " [1.39e+02 1.06e+02]\n",
      " [2.06e+02 9.40e+01]\n",
      " [4.27e+01 1.53e+01]\n",
      " [2.39e+01 1.77e+01]\n",
      " [1.04e+02 8.38e+01]\n",
      " [6.47e+01 2.41e+01]\n",
      " [1.02e+02 3.78e+01]\n",
      " [8.12e+01 7.13e+01]\n",
      " [1.13e+02 7.32e+01]\n",
      " [7.64e+01 3.41e+00]\n",
      " [8.74e+00 1.12e+01]\n",
      " [9.70e+01 1.46e+02]\n",
      " [3.27e+01 3.38e+01]\n",
      " [6.23e+01 5.90e+01]\n",
      " [2.74e+02 1.38e+02]\n",
      " [1.22e+02 2.13e+01]\n",
      " [2.44e+02 2.37e+02]\n",
      " [3.89e+01 1.59e+01]\n",
      " [8.07e+00 1.89e+00]\n",
      " [6.76e+01 5.17e+01]\n",
      " [1.00e+02 4.88e+01]\n",
      " [4.96e+01 2.43e+02]\n",
      " [2.03e+02 4.10e+02]\n",
      " [7.11e+01 8.20e+01]\n",
      " [1.42e+02 1.20e+02]\n",
      " [1.21e+02 4.81e+01]\n",
      " [1.58e+02 1.34e+02]\n",
      " [9.74e+01 1.62e+02]\n",
      " [1.27e+02 3.82e+02]\n",
      " [2.23e+01 2.06e+01]\n",
      " [1.67e+02 3.71e+02]\n",
      " [6.02e+01 5.04e+01]\n",
      " [8.18e+01 2.72e+01]\n",
      " [3.15e+02 2.42e+02]\n",
      " [2.62e+01 3.26e+01]\n",
      " [6.00e+01 1.60e+02]\n",
      " [2.16e+01 2.15e+01]\n",
      " [4.45e+01 1.94e+01]\n",
      " [1.40e+02 3.69e+01]\n",
      " [8.85e+01 1.32e+02]\n",
      " [1.55e+01 3.60e+01]\n",
      " [2.70e+01 2.73e+01]\n",
      " [8.03e+00 2.12e+00]\n",
      " [2.68e+01 7.10e+00]\n",
      " [1.52e+02 7.79e+01]\n",
      " [3.63e+01 3.30e+01]\n",
      " [1.77e+02 1.50e+02]\n",
      " [3.83e+01 3.83e+01]\n",
      " [4.86e+01 8.79e+01]\n",
      " [2.13e+01 1.07e+01]\n",
      " [4.01e+02 4.56e+02]\n",
      " [9.39e+01 2.33e+02]\n",
      " [1.37e+02 1.27e+02]\n",
      " [1.32e+02 2.61e+02]\n",
      " [2.08e+01 1.46e+02]\n",
      " [2.94e+02 2.01e+02]\n",
      " [7.54e+01 6.22e+01]\n",
      " [2.72e+01 1.03e+01]\n",
      " [7.95e+00 2.80e-01]\n",
      " [7.08e+01 8.08e+01]\n",
      " [3.17e+02 3.07e+02]\n",
      " [7.88e+00 5.70e+00]\n",
      " [4.58e+01 5.74e+01]\n",
      " [7.80e+00 2.98e+00]\n",
      " [1.67e+02 3.24e+02]\n",
      " [2.06e+01 3.49e+00]\n",
      " [9.75e+01 8.11e+01]\n",
      " [3.76e+01 5.60e+01]\n",
      " [1.13e+02 1.71e+02]\n",
      " [6.21e+02 6.41e+02]\n",
      " [4.99e+02 5.43e+02]\n",
      " [1.59e+02 4.15e+02]\n",
      " [1.99e+01 1.46e+01]\n",
      " [2.62e+02 8.71e+02]\n",
      " [2.08e+01 3.35e+00]\n",
      " [6.95e+01 2.73e+01]\n",
      " [2.12e+02 1.14e+02]\n",
      " [6.64e+01 1.60e+02]\n",
      " [1.15e+02 1.16e+02]\n",
      " [2.17e+02 4.12e+02]\n",
      " [4.07e+01 9.88e+01]\n",
      " [3.44e+01 9.33e+01]\n",
      " [1.47e+02 8.16e+01]\n",
      " [7.94e+01 3.46e+02]\n",
      " [6.75e+01 9.43e+01]\n",
      " [2.78e+01 1.67e+01]\n",
      " [1.73e+02 1.53e+02]\n",
      " [3.14e+02 4.29e+02]\n",
      " [1.47e+02 6.70e+01]\n",
      " [2.48e+01 9.23e+00]\n",
      " [1.98e+02 5.14e+01]\n",
      " [1.54e+02 1.66e+02]\n",
      " [1.79e+02 2.58e+02]\n",
      " [5.20e+01 2.35e+01]\n",
      " [2.31e+01 1.32e+01]\n",
      " [7.61e+01 2.11e+02]\n",
      " [5.76e+02 5.76e+02]\n",
      " [2.26e+02 2.70e+02]\n",
      " [8.69e+01 1.41e+02]\n",
      " [1.95e+01 2.00e-01]\n",
      " [9.86e+00 1.63e+00]\n",
      " [4.65e+01 2.25e+01]\n",
      " [6.25e+01 1.35e+02]\n",
      " [4.25e+01 2.11e+01]\n",
      " [1.28e+02 1.17e+02]\n",
      " [2.58e+02 1.43e+02]\n",
      " [1.79e+02 3.58e+02]\n",
      " [1.87e+01 3.76e+01]\n",
      " [2.85e+02 1.14e+02]\n",
      " [5.21e+01 1.32e+02]\n",
      " [1.66e+02 4.31e+01]\n",
      " [6.18e+01 1.91e+01]\n",
      " [5.33e+01 4.52e+02]\n",
      " [1.90e+01 1.16e+00]\n",
      " [1.19e+02 6.25e+01]\n",
      " [2.10e+01 1.79e+01]\n",
      " [3.41e+01 6.10e+01]\n",
      " [1.77e+02 4.48e+02]\n",
      " [2.62e+02 3.39e+02]\n",
      " [3.81e+01 1.05e+00]\n",
      " [4.96e+02 6.06e+02]\n",
      " [5.67e+01 1.65e+02]\n",
      " [3.69e+01 3.36e+00]\n",
      " [4.06e+01 1.24e+01]\n",
      " [5.39e+01 3.21e+00]\n",
      " [2.22e+02 1.70e+02]\n",
      " [7.52e+01 4.94e+01]\n",
      " [1.04e+01 2.22e+01]\n",
      " [2.15e+01 1.60e+01]\n",
      " [2.02e+02 1.13e+02]\n",
      " [2.96e+01 2.64e+01]\n",
      " [2.15e+01 1.13e+01]\n",
      " [8.20e+01 1.26e+02]\n",
      " [4.08e+01 2.87e+02]\n",
      " [1.65e+02 3.06e+02]\n",
      " [4.26e+01 4.88e+01]\n",
      " [1.59e+01 2.59e+00]\n",
      " [6.10e+02 1.22e+03]\n",
      " [4.84e+01 1.06e+02]\n",
      " [7.81e+00 1.75e-01]\n",
      " [8.04e+00 1.71e-01]\n",
      " [6.01e+01 5.28e+01]\n",
      " [2.58e+01 3.02e+01]\n",
      " [2.92e+01 3.53e+01]\n",
      " [4.99e+01 1.67e+02]\n",
      " [1.09e+02 1.20e+02]\n",
      " [1.09e+02 4.27e+01]\n",
      " [1.17e+01 3.60e+00]\n",
      " [8.45e+01 5.20e+01]\n",
      " [4.42e+01 3.54e+01]\n",
      " [1.87e+01 2.50e+01]\n",
      " [3.87e+01 4.96e+01]\n",
      " [2.33e+02 8.80e+01]\n",
      " [5.41e+02 4.32e+02]\n",
      " [2.38e+01 1.24e+01]\n",
      " [5.36e+02 1.54e+03]\n",
      " [1.24e+02 8.75e+01]\n",
      " [2.72e+01 1.91e+01]\n",
      " [1.23e+02 5.37e+01]\n",
      " [1.35e+02 5.25e+01]\n",
      " [9.70e+01 3.08e+02]\n",
      " [6.19e+01 1.83e+01]\n",
      " [6.89e+01 3.17e+01]\n",
      " [6.13e+01 1.95e+01]\n",
      " [1.29e+02 1.56e+02]\n",
      " [1.76e+01 7.46e-01]\n",
      " [1.79e+02 2.75e+02]\n",
      " [5.97e+01 4.32e+01]\n",
      " [1.84e+02 4.78e+01]\n",
      " [1.71e+02 2.07e+02]\n",
      " [1.54e+02 1.54e+02]\n",
      " [4.47e+01 5.17e+01]\n",
      " [4.01e+01 1.56e+01]\n",
      " [4.90e+02 6.67e+02]\n",
      " [4.10e+02 9.31e+02]\n",
      " [1.10e+02 8.74e+01]\n",
      " [8.67e+01 8.11e+00]\n",
      " [2.49e+01 1.35e+01]\n",
      " [1.26e+02 1.32e+02]\n",
      " [2.14e+02 8.97e+02]\n",
      " [1.37e+02 6.92e+01]\n",
      " [2.90e+01 4.57e-01]\n",
      " [4.34e+01 2.43e+01]\n",
      " [2.86e+02 6.71e+02]\n",
      " [7.13e+01 1.28e+02]\n",
      " [1.89e+02 2.88e+02]\n",
      " [3.04e+02 1.00e+02]\n",
      " [6.80e+01 3.37e+01]\n",
      " [6.15e+01 1.69e+01]\n",
      " [3.25e+01 2.22e+01]\n",
      " [2.90e+01 5.36e+00]\n",
      " [1.49e+02 2.54e+02]\n",
      " [1.47e+02 8.24e+01]\n",
      " [1.48e+02 6.16e+01]\n",
      " [4.07e+01 4.06e+01]\n",
      " [7.91e+01 3.07e+01]\n",
      " [2.69e+01 1.38e+01]\n",
      " [1.02e+02 5.30e+01]\n",
      " [1.37e+02 1.08e+02]\n",
      " [3.71e+01 3.15e+01]\n",
      " [2.31e+01 3.77e+00]\n",
      " [8.86e+01 4.17e+01]\n",
      " [8.98e+01 4.27e+02]\n",
      " [8.50e+01 8.09e+02]\n",
      " [3.79e+01 6.38e+00]\n",
      " [1.70e+02 7.99e+01]\n",
      " [2.17e+02 3.20e+02]\n",
      " [1.13e+02 1.48e+02]\n",
      " [1.72e+01 2.59e+00]\n",
      " [8.51e+01 1.08e+02]\n",
      " [3.77e+01 4.88e+00]\n",
      " [5.27e+02 2.93e+02]\n",
      " [4.11e+01 4.44e+01]\n",
      " [3.57e+01 9.12e+00]\n",
      " [1.07e+03 1.42e+03]\n",
      " [2.20e+01 2.12e+01]\n",
      " [7.44e+01 5.06e+01]\n",
      " [3.61e+01 6.86e+01]\n",
      " [2.07e+02 1.26e+02]\n",
      " [5.40e+01 3.92e+01]\n",
      " [1.09e+02 1.13e+02]\n",
      " [1.13e+02 5.36e+01]\n",
      " [1.48e+02 1.64e+02]\n",
      " [6.30e+01 3.24e+02]\n",
      " [3.52e+01 1.27e+01]\n",
      " [2.05e+01 2.07e+01]\n",
      " [6.21e+01 1.41e+02]\n",
      " [3.62e+01 1.10e+01]\n",
      " [9.63e+00 1.76e+00]\n",
      " [3.11e+01 3.50e+00]\n",
      " [7.68e+00 3.92e-01]\n",
      " [5.00e+01 2.23e+01]\n",
      " [2.40e+02 4.14e+02]\n",
      " [3.08e+01 4.13e+01]\n",
      " [1.32e+02 1.25e+02]\n",
      " [8.60e+01 3.76e+01]\n",
      " [2.43e+02 5.45e+02]\n",
      " [1.48e+02 8.76e+01]\n",
      " [7.46e+01 4.67e+01]\n",
      " [1.22e+02 5.48e+01]\n",
      " [1.14e+02 1.31e+02]\n",
      " [7.17e+01 7.67e+01]\n",
      " [3.87e+01 4.65e+02]\n",
      " [8.05e+01 5.12e+01]\n",
      " [1.46e+02 2.20e+02]\n",
      " [4.36e+01 1.26e+02]\n",
      " [6.60e+02 1.26e+03]\n",
      " [1.26e+02 1.15e+02]\n",
      " [2.68e+01 4.04e+01]\n",
      " [3.37e+01 4.51e+01]\n",
      " [2.48e+02 1.13e+02]\n",
      " [1.34e+02 6.11e+01]\n",
      " [3.40e+02 3.81e+02]\n",
      " [3.74e+01 3.33e+01]\n",
      " [8.39e+01 2.01e+02]\n",
      " [2.37e+01 2.07e+01]\n",
      " [1.29e+02 4.23e+01]\n",
      " [5.18e+01 3.99e+01]\n",
      " [1.26e+02 8.66e+01]]\n"
     ]
    }
   ],
   "source": [
    "# Predicting the Test set results\n",
    "y_pred = model.predict(X_test)\n",
    "np.set_printoptions(precision=2)\n",
    "print(np.concatenate((y_pred.reshape(len(y_pred),1), y_test.reshape(len(y_test),1)),1))"
   ]
  },
  {
   "cell_type": "code",
   "execution_count": 82,
   "metadata": {},
   "outputs": [],
   "source": [
    "assessment = np.concatenate((y_pred.reshape(len(y_pred),1), y_test.reshape(len(y_test),1)),1)"
   ]
  },
  {
   "cell_type": "code",
   "execution_count": 83,
   "metadata": {},
   "outputs": [],
   "source": [
    "assessment = pd.DataFrame(data = assessment, columns = ['Predicted Mean Energy Usage', 'Real Mean Energy Output'])"
   ]
  },
  {
   "cell_type": "code",
   "execution_count": 84,
   "metadata": {},
   "outputs": [
    {
     "data": {
      "text/plain": [
       "<matplotlib.axes._subplots.AxesSubplot at 0x7f8672828b10>"
      ]
     },
     "execution_count": 84,
     "metadata": {},
     "output_type": "execute_result"
    },
    {
     "data": {
      "image/png": "[encoded data removed]",
      "text/plain": [
       "<Figure size 864x648 with 1 Axes>"
      ]
     },
     "metadata": {
      "needs_background": "light"
     },
     "output_type": "display_data"
    }
   ],
   "source": [
    "assessment.plot(figsize=(12,9))"
   ]
  },
  {
   "cell_type": "code",
   "execution_count": 85,
   "metadata": {},
   "outputs": [
    {
     "data": {
      "text/plain": [
       "<matplotlib.axes._subplots.AxesSubplot at 0x7f8672b93690>"
      ]
     },
     "execution_count": 85,
     "metadata": {},
     "output_type": "execute_result"
    },
    {
     "data": {
      "image/png": "[encoded data removed]",
      "text/plain": [
       "<Figure size 864x648 with 1 Axes>"
      ]
     },
     "metadata": {
      "needs_background": "light"
     },
     "output_type": "display_data"
    }
   ],
   "source": [
    "# Having a quick look at kernel density\n",
    "assessment.plot(figsize=(12,9), kind ='kde')"
   ]
  },
  {
   "cell_type": "code",
   "execution_count": 86,
   "metadata": {},
   "outputs": [
    {
     "data": {
      "text/plain": [
       "<matplotlib.axes._subplots.AxesSubplot at 0x7f8674041c90>"
      ]
     },
     "execution_count": 86,
     "metadata": {},
     "output_type": "execute_result"
    },
    {
     "data": {
      "image/png": "[encoded data removed]",
      "text/plain": [
       "<Figure size 2088x648 with 1 Axes>"
      ]
     },
     "metadata": {
      "needs_background": "light"
     },
     "output_type": "display_data"
    }
   ],
   "source": [
    "assessment[100:200].plot(figsize=(29,9),kind = 'area')"
   ]
  },
  {
   "cell_type": "code",
   "execution_count": 1351,
   "metadata": {},
   "outputs": [],
   "source": [
    "# Building size and primary use can only explain 60% of energy consumption"
   ]
  },
  {
   "cell_type": "code",
   "execution_count": 1352,
   "metadata": {},
   "outputs": [],
   "source": [
    "# "
   ]
  },
  {
   "cell_type": "code",
   "execution_count": 92,
   "metadata": {},
   "outputs": [
    {
     "data": {
      "text/html": [
       "<div>\n",
       "<style scoped>\n",
       "    .dataframe tbody tr th:only-of-type {\n",
       "        vertical-align: middle;\n",
       "    }\n",
       "\n",
       "    .dataframe tbody tr th {\n",
       "        vertical-align: top;\n",
       "    }\n",
       "\n",
       "    .dataframe thead th {\n",
       "        text-align: right;\n",
       "    }\n",
       "</style>\n",
       "<table border=\"1\" class=\"dataframe\">\n",
       "  <thead>\n",
       "    <tr style=\"text-align: right;\">\n",
       "      <th></th>\n",
       "      <th>Predicted Mean Energy Usage</th>\n",
       "      <th>Real Mean Energy Output</th>\n",
       "    </tr>\n",
       "  </thead>\n",
       "  <tbody>\n",
       "    <tr>\n",
       "      <th>count</th>\n",
       "      <td>280.000000</td>\n",
       "      <td>280.000000</td>\n",
       "    </tr>\n",
       "    <tr>\n",
       "      <th>mean</th>\n",
       "      <td>117.777985</td>\n",
       "      <td>147.616760</td>\n",
       "    </tr>\n",
       "    <tr>\n",
       "      <th>std</th>\n",
       "      <td>131.398773</td>\n",
       "      <td>222.872498</td>\n",
       "    </tr>\n",
       "    <tr>\n",
       "      <th>min</th>\n",
       "      <td>7.676769</td>\n",
       "      <td>0.171072</td>\n",
       "    </tr>\n",
       "    <tr>\n",
       "      <th>25%</th>\n",
       "      <td>36.774614</td>\n",
       "      <td>22.320308</td>\n",
       "    </tr>\n",
       "    <tr>\n",
       "      <th>50%</th>\n",
       "      <td>75.301044</td>\n",
       "      <td>62.393660</td>\n",
       "    </tr>\n",
       "    <tr>\n",
       "      <th>75%</th>\n",
       "      <td>147.972889</td>\n",
       "      <td>160.313248</td>\n",
       "    </tr>\n",
       "    <tr>\n",
       "      <th>max</th>\n",
       "      <td>1066.729980</td>\n",
       "      <td>1538.965820</td>\n",
       "    </tr>\n",
       "  </tbody>\n",
       "</table>\n",
       "</div>"
      ],
      "text/plain": [
       "       Predicted Mean Energy Usage  Real Mean Energy Output\n",
       "count                   280.000000               280.000000\n",
       "mean                    117.777985               147.616760\n",
       "std                     131.398773               222.872498\n",
       "min                       7.676769                 0.171072\n",
       "25%                      36.774614                22.320308\n",
       "50%                      75.301044                62.393660\n",
       "75%                     147.972889               160.313248\n",
       "max                    1066.729980              1538.965820"
      ]
     },
     "execution_count": 92,
     "metadata": {},
     "output_type": "execute_result"
    }
   ],
   "source": [
    "assessment.describe()"
   ]
  },
  {
   "cell_type": "code",
   "execution_count": 95,
   "metadata": {},
   "outputs": [
    {
     "data": {
      "text/plain": [
       "146.56961059570312"
      ]
     },
     "execution_count": 95,
     "metadata": {},
     "output_type": "execute_result"
    }
   ],
   "source": [
    "new_cleaned['mean_usage'].mean()"
   ]
  },
  {
   "cell_type": "code",
   "execution_count": null,
   "metadata": {},
   "outputs": [],
   "source": []
  },
  {
   "cell_type": "code",
   "execution_count": null,
   "metadata": {},
   "outputs": [],
   "source": []
  },
  {
   "cell_type": "code",
   "execution_count": null,
   "metadata": {},
   "outputs": [],
   "source": []
  },
  {
   "cell_type": "code",
   "execution_count": null,
   "metadata": {},
   "outputs": [],
   "source": []
  },
  {
   "cell_type": "code",
   "execution_count": null,
   "metadata": {},
   "outputs": [],
   "source": []
  },
  {
   "cell_type": "code",
   "execution_count": null,
   "metadata": {},
   "outputs": [],
   "source": []
  }
 ],
 "metadata": {
  "kernelspec": {
   "display_name": "Python 3",
   "language": "python",
   "name": "python3"
  },
  "language_info": {
   "codemirror_mode": {
    "name": "ipython",
    "version": 3
   },
   "file_extension": ".py",
   "mimetype": "text/x-python",
   "name": "python",
   "nbconvert_exporter": "python",
   "pygments_lexer": "ipython3",
   "version": "3.7.7"
  }
 },
 "nbformat": 4,
 "nbformat_minor": 4
}
