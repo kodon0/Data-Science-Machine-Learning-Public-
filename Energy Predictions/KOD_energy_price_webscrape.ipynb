{
 "cells": [
  {
   "cell_type": "code",
   "execution_count": 1,
   "metadata": {},
   "outputs": [],
   "source": [
    "# Hourly \n",
    "# URL = https://my.elexys.be/MarketInformation/SpotBelpex.aspx\n",
    "import requests\n",
    "from bs4 import BeautifulSoup\n",
    "import pandas as pd\n"
   ]
  },
  {
   "cell_type": "code",
   "execution_count": 2,
   "metadata": {},
   "outputs": [],
   "source": [
    "url = 'https://my.elexys.be/MarketInformation/SpotBelpex.aspx'\n",
    "page = requests.get(url)\n",
    "page_content = page.content\n",
    "soup = BeautifulSoup(page_content,'html.parser')\n",
    "tabl = soup.find_all(\"table\", {\"class\" : \"dxgvControl_Office2010Blue dxgv\"})\n"
   ]
  },
  {
   "cell_type": "code",
   "execution_count": 58,
   "metadata": {},
   "outputs": [
    {
     "data": {
      "text/html": [
       "<div>\n",
       "<style scoped>\n",
       "    .dataframe tbody tr th:only-of-type {\n",
       "        vertical-align: middle;\n",
       "    }\n",
       "\n",
       "    .dataframe tbody tr th {\n",
       "        vertical-align: top;\n",
       "    }\n",
       "\n",
       "    .dataframe thead th {\n",
       "        text-align: right;\n",
       "    }\n",
       "</style>\n",
       "<table border=\"1\" class=\"dataframe\">\n",
       "  <thead>\n",
       "    <tr style=\"text-align: right;\">\n",
       "      <th></th>\n",
       "      <th>0</th>\n",
       "      <th>1</th>\n",
       "    </tr>\n",
       "  </thead>\n",
       "  <tbody>\n",
       "    <tr>\n",
       "      <th>0</th>\n",
       "      <td>7/07/2020 23:00:00</td>\n",
       "      <td>37.00</td>\n",
       "    </tr>\n",
       "    <tr>\n",
       "      <th>1</th>\n",
       "      <td>7/07/2020 22:00:00</td>\n",
       "      <td>40.15</td>\n",
       "    </tr>\n",
       "    <tr>\n",
       "      <th>2</th>\n",
       "      <td>7/07/2020 21:00:00</td>\n",
       "      <td>40.10</td>\n",
       "    </tr>\n",
       "    <tr>\n",
       "      <th>3</th>\n",
       "      <td>7/07/2020 20:00:00</td>\n",
       "      <td>40.84</td>\n",
       "    </tr>\n",
       "    <tr>\n",
       "      <th>4</th>\n",
       "      <td>7/07/2020 19:00:00</td>\n",
       "      <td>40.70</td>\n",
       "    </tr>\n",
       "    <tr>\n",
       "      <th>...</th>\n",
       "      <td>...</td>\n",
       "      <td>...</td>\n",
       "    </tr>\n",
       "    <tr>\n",
       "      <th>187</th>\n",
       "      <td>30/06/2020 4:00:00</td>\n",
       "      <td>16.60</td>\n",
       "    </tr>\n",
       "    <tr>\n",
       "      <th>188</th>\n",
       "      <td>30/06/2020 3:00:00</td>\n",
       "      <td>15.88</td>\n",
       "    </tr>\n",
       "    <tr>\n",
       "      <th>189</th>\n",
       "      <td>30/06/2020 2:00:00</td>\n",
       "      <td>16.37</td>\n",
       "    </tr>\n",
       "    <tr>\n",
       "      <th>190</th>\n",
       "      <td>30/06/2020 1:00:00</td>\n",
       "      <td>16.15</td>\n",
       "    </tr>\n",
       "    <tr>\n",
       "      <th>191</th>\n",
       "      <td>30/06/2020 0:00:00</td>\n",
       "      <td>17.82</td>\n",
       "    </tr>\n",
       "  </tbody>\n",
       "</table>\n",
       "<p>192 rows × 2 columns</p>\n",
       "</div>"
      ],
      "text/plain": [
       "                       0      1\n",
       "0     7/07/2020 23:00:00  37.00\n",
       "1     7/07/2020 22:00:00  40.15\n",
       "2     7/07/2020 21:00:00  40.10\n",
       "3     7/07/2020 20:00:00  40.84\n",
       "4     7/07/2020 19:00:00  40.70\n",
       "..                   ...    ...\n",
       "187   30/06/2020 4:00:00  16.60\n",
       "188   30/06/2020 3:00:00  15.88\n",
       "189   30/06/2020 2:00:00  16.37\n",
       "190   30/06/2020 1:00:00  16.15\n",
       "191   30/06/2020 0:00:00  17.82\n",
       "\n",
       "[192 rows x 2 columns]"
      ]
     },
     "execution_count": 58,
     "metadata": {},
     "output_type": "execute_result"
    }
   ],
   "source": [
    "data_raw = []\n",
    "for t in tabl:\n",
    "    rows = t.find_all(\"tr\")\n",
    "    for row in rows:\n",
    "        data_raw.append(row.get_text(separator = '').split(\"€\"))\n",
    "\n",
    "        \n",
    "data_cleaned = []\n",
    "for i in range(len(data_raw)):\n",
    "    if len(data_raw[i]) == 2:\n",
    "        data_cleaned.append(data_raw[i])\n",
    "    \n",
    "    \n",
    "df = pd.DataFrame.from_records(data_cleaned)\n",
    "df = df.replace(r'\\n',' ', regex=True) \n",
    "df = df.replace(r',', '.', regex = True)\n",
    "df[1] = df[1].astype(float)\n",
    "df\n"
   ]
  },
  {
   "cell_type": "code",
   "execution_count": 59,
   "metadata": {},
   "outputs": [
    {
     "data": {
      "text/plain": [
       "numpy.float64"
      ]
     },
     "execution_count": 59,
     "metadata": {},
     "output_type": "execute_result"
    }
   ],
   "source": [
    "type(df[1][0])"
   ]
  },
  {
   "cell_type": "code",
   "execution_count": 60,
   "metadata": {},
   "outputs": [
    {
     "data": {
      "text/plain": [
       "0      37.00\n",
       "1      40.15\n",
       "2      40.10\n",
       "3      40.84\n",
       "4      40.70\n",
       "       ...  \n",
       "187    16.60\n",
       "188    15.88\n",
       "189    16.37\n",
       "190    16.15\n",
       "191    17.82\n",
       "Name: 1, Length: 192, dtype: float64"
      ]
     },
     "execution_count": 60,
     "metadata": {},
     "output_type": "execute_result"
    }
   ],
   "source": [
    "df[1]"
   ]
  },
  {
   "cell_type": "code",
   "execution_count": 61,
   "metadata": {},
   "outputs": [
    {
     "name": "stdout",
     "output_type": "stream",
     "text": [
      "<class 'pandas.core.frame.DataFrame'>\n",
      "RangeIndex: 192 entries, 0 to 191\n",
      "Data columns (total 2 columns):\n",
      " #   Column  Non-Null Count  Dtype  \n",
      "---  ------  --------------  -----  \n",
      " 0   0       192 non-null    object \n",
      " 1   1       192 non-null    float64\n",
      "dtypes: float64(1), object(1)\n",
      "memory usage: 3.1+ KB\n"
     ]
    }
   ],
   "source": [
    "df.info()"
   ]
  },
  {
   "cell_type": "code",
   "execution_count": 62,
   "metadata": {},
   "outputs": [],
   "source": [
    "df.columns = ['Date', 'Price']"
   ]
  },
  {
   "cell_type": "code",
   "execution_count": 63,
   "metadata": {},
   "outputs": [
    {
     "data": {
      "text/plain": [
       "0     2020-07-07 23:00:00\n",
       "1     2020-07-07 22:00:00\n",
       "2     2020-07-07 21:00:00\n",
       "3     2020-07-07 20:00:00\n",
       "4     2020-07-07 19:00:00\n",
       "              ...        \n",
       "187   2020-06-30 04:00:00\n",
       "188   2020-06-30 03:00:00\n",
       "189   2020-06-30 02:00:00\n",
       "190   2020-06-30 01:00:00\n",
       "191   2020-06-30 00:00:00\n",
       "Name: Date, Length: 192, dtype: datetime64[ns]"
      ]
     },
     "execution_count": 63,
     "metadata": {},
     "output_type": "execute_result"
    }
   ],
   "source": [
    "pd.to_datetime(df['Date'], infer_datetime_format=True)"
   ]
  },
  {
   "cell_type": "code",
   "execution_count": 64,
   "metadata": {},
   "outputs": [
    {
     "data": {
      "text/html": [
       "<div>\n",
       "<style scoped>\n",
       "    .dataframe tbody tr th:only-of-type {\n",
       "        vertical-align: middle;\n",
       "    }\n",
       "\n",
       "    .dataframe tbody tr th {\n",
       "        vertical-align: top;\n",
       "    }\n",
       "\n",
       "    .dataframe thead th {\n",
       "        text-align: right;\n",
       "    }\n",
       "</style>\n",
       "<table border=\"1\" class=\"dataframe\">\n",
       "  <thead>\n",
       "    <tr style=\"text-align: right;\">\n",
       "      <th></th>\n",
       "      <th>Date</th>\n",
       "      <th>Price</th>\n",
       "    </tr>\n",
       "    <tr>\n",
       "      <th>Date</th>\n",
       "      <th></th>\n",
       "      <th></th>\n",
       "    </tr>\n",
       "  </thead>\n",
       "  <tbody>\n",
       "    <tr>\n",
       "      <th>7/07/2020 23:00:00</th>\n",
       "      <td>7/07/2020 23:00:00</td>\n",
       "      <td>37.00</td>\n",
       "    </tr>\n",
       "    <tr>\n",
       "      <th>7/07/2020 22:00:00</th>\n",
       "      <td>7/07/2020 22:00:00</td>\n",
       "      <td>40.15</td>\n",
       "    </tr>\n",
       "    <tr>\n",
       "      <th>7/07/2020 21:00:00</th>\n",
       "      <td>7/07/2020 21:00:00</td>\n",
       "      <td>40.10</td>\n",
       "    </tr>\n",
       "    <tr>\n",
       "      <th>7/07/2020 20:00:00</th>\n",
       "      <td>7/07/2020 20:00:00</td>\n",
       "      <td>40.84</td>\n",
       "    </tr>\n",
       "    <tr>\n",
       "      <th>7/07/2020 19:00:00</th>\n",
       "      <td>7/07/2020 19:00:00</td>\n",
       "      <td>40.70</td>\n",
       "    </tr>\n",
       "    <tr>\n",
       "      <th>...</th>\n",
       "      <td>...</td>\n",
       "      <td>...</td>\n",
       "    </tr>\n",
       "    <tr>\n",
       "      <th>30/06/2020 4:00:00</th>\n",
       "      <td>30/06/2020 4:00:00</td>\n",
       "      <td>16.60</td>\n",
       "    </tr>\n",
       "    <tr>\n",
       "      <th>30/06/2020 3:00:00</th>\n",
       "      <td>30/06/2020 3:00:00</td>\n",
       "      <td>15.88</td>\n",
       "    </tr>\n",
       "    <tr>\n",
       "      <th>30/06/2020 2:00:00</th>\n",
       "      <td>30/06/2020 2:00:00</td>\n",
       "      <td>16.37</td>\n",
       "    </tr>\n",
       "    <tr>\n",
       "      <th>30/06/2020 1:00:00</th>\n",
       "      <td>30/06/2020 1:00:00</td>\n",
       "      <td>16.15</td>\n",
       "    </tr>\n",
       "    <tr>\n",
       "      <th>30/06/2020 0:00:00</th>\n",
       "      <td>30/06/2020 0:00:00</td>\n",
       "      <td>17.82</td>\n",
       "    </tr>\n",
       "  </tbody>\n",
       "</table>\n",
       "<p>192 rows × 2 columns</p>\n",
       "</div>"
      ],
      "text/plain": [
       "                                    Date  Price\n",
       "Date                                           \n",
       " 7/07/2020 23:00:00   7/07/2020 23:00:00  37.00\n",
       " 7/07/2020 22:00:00   7/07/2020 22:00:00  40.15\n",
       " 7/07/2020 21:00:00   7/07/2020 21:00:00  40.10\n",
       " 7/07/2020 20:00:00   7/07/2020 20:00:00  40.84\n",
       " 7/07/2020 19:00:00   7/07/2020 19:00:00  40.70\n",
       "...                                  ...    ...\n",
       " 30/06/2020 4:00:00   30/06/2020 4:00:00  16.60\n",
       " 30/06/2020 3:00:00   30/06/2020 3:00:00  15.88\n",
       " 30/06/2020 2:00:00   30/06/2020 2:00:00  16.37\n",
       " 30/06/2020 1:00:00   30/06/2020 1:00:00  16.15\n",
       " 30/06/2020 0:00:00   30/06/2020 0:00:00  17.82\n",
       "\n",
       "[192 rows x 2 columns]"
      ]
     },
     "execution_count": 64,
     "metadata": {},
     "output_type": "execute_result"
    }
   ],
   "source": [
    "df.set_index(df['Date'])"
   ]
  },
  {
   "cell_type": "code",
   "execution_count": 65,
   "metadata": {},
   "outputs": [
    {
     "name": "stdout",
     "output_type": "stream",
     "text": [
      "<class 'pandas.core.frame.DataFrame'>\n",
      "RangeIndex: 192 entries, 0 to 191\n",
      "Data columns (total 2 columns):\n",
      " #   Column  Non-Null Count  Dtype  \n",
      "---  ------  --------------  -----  \n",
      " 0   Date    192 non-null    object \n",
      " 1   Price   192 non-null    float64\n",
      "dtypes: float64(1), object(1)\n",
      "memory usage: 3.1+ KB\n"
     ]
    }
   ],
   "source": [
    "df.info()"
   ]
  },
  {
   "cell_type": "code",
   "execution_count": 66,
   "metadata": {},
   "outputs": [],
   "source": [
    "df = df.set_index(pd.DatetimeIndex(df['Date']))"
   ]
  },
  {
   "cell_type": "code",
   "execution_count": 67,
   "metadata": {},
   "outputs": [],
   "source": [
    "del df['Date']"
   ]
  },
  {
   "cell_type": "code",
   "execution_count": 71,
   "metadata": {},
   "outputs": [
    {
     "data": {
      "text/plain": [
       "DatetimeIndex(['2020-07-07 23:00:00', '2020-07-07 22:00:00',\n",
       "               '2020-07-07 21:00:00', '2020-07-07 20:00:00',\n",
       "               '2020-07-07 19:00:00', '2020-07-07 18:00:00',\n",
       "               '2020-07-07 17:00:00', '2020-07-07 16:00:00',\n",
       "               '2020-07-07 15:00:00', '2020-07-07 14:00:00',\n",
       "               ...\n",
       "               '2020-06-30 09:00:00', '2020-06-30 08:00:00',\n",
       "               '2020-06-30 07:00:00', '2020-06-30 06:00:00',\n",
       "               '2020-06-30 05:00:00', '2020-06-30 04:00:00',\n",
       "               '2020-06-30 03:00:00', '2020-06-30 02:00:00',\n",
       "               '2020-06-30 01:00:00', '2020-06-30 00:00:00'],\n",
       "              dtype='datetime64[ns]', name='Date', length=192, freq=None)"
      ]
     },
     "execution_count": 71,
     "metadata": {},
     "output_type": "execute_result"
    }
   ],
   "source": [
    "df.index"
   ]
  },
  {
   "cell_type": "code",
   "execution_count": 75,
   "metadata": {},
   "outputs": [
    {
     "data": {
      "text/html": [
       "<div>\n",
       "<style scoped>\n",
       "    .dataframe tbody tr th:only-of-type {\n",
       "        vertical-align: middle;\n",
       "    }\n",
       "\n",
       "    .dataframe tbody tr th {\n",
       "        vertical-align: top;\n",
       "    }\n",
       "\n",
       "    .dataframe thead th {\n",
       "        text-align: right;\n",
       "    }\n",
       "</style>\n",
       "<table border=\"1\" class=\"dataframe\">\n",
       "  <thead>\n",
       "    <tr style=\"text-align: right;\">\n",
       "      <th></th>\n",
       "      <th>Price</th>\n",
       "    </tr>\n",
       "    <tr>\n",
       "      <th>Date</th>\n",
       "      <th></th>\n",
       "    </tr>\n",
       "  </thead>\n",
       "  <tbody>\n",
       "    <tr>\n",
       "      <th>2020-07-07 23:00:00</th>\n",
       "      <td>37.00</td>\n",
       "    </tr>\n",
       "    <tr>\n",
       "      <th>2020-07-07 22:00:00</th>\n",
       "      <td>40.15</td>\n",
       "    </tr>\n",
       "    <tr>\n",
       "      <th>2020-07-07 21:00:00</th>\n",
       "      <td>40.10</td>\n",
       "    </tr>\n",
       "    <tr>\n",
       "      <th>2020-07-07 20:00:00</th>\n",
       "      <td>40.84</td>\n",
       "    </tr>\n",
       "    <tr>\n",
       "      <th>2020-07-07 19:00:00</th>\n",
       "      <td>40.70</td>\n",
       "    </tr>\n",
       "    <tr>\n",
       "      <th>...</th>\n",
       "      <td>...</td>\n",
       "    </tr>\n",
       "    <tr>\n",
       "      <th>2020-04-07 00:00:00</th>\n",
       "      <td>26.42</td>\n",
       "    </tr>\n",
       "    <tr>\n",
       "      <th>2020-03-07 23:00:00</th>\n",
       "      <td>27.62</td>\n",
       "    </tr>\n",
       "    <tr>\n",
       "      <th>2020-03-07 22:00:00</th>\n",
       "      <td>34.25</td>\n",
       "    </tr>\n",
       "    <tr>\n",
       "      <th>2020-03-07 21:00:00</th>\n",
       "      <td>35.20</td>\n",
       "    </tr>\n",
       "    <tr>\n",
       "      <th>2020-03-07 20:00:00</th>\n",
       "      <td>36.91</td>\n",
       "    </tr>\n",
       "  </tbody>\n",
       "</table>\n",
       "<p>100 rows × 1 columns</p>\n",
       "</div>"
      ],
      "text/plain": [
       "                     Price\n",
       "Date                      \n",
       "2020-07-07 23:00:00  37.00\n",
       "2020-07-07 22:00:00  40.15\n",
       "2020-07-07 21:00:00  40.10\n",
       "2020-07-07 20:00:00  40.84\n",
       "2020-07-07 19:00:00  40.70\n",
       "...                    ...\n",
       "2020-04-07 00:00:00  26.42\n",
       "2020-03-07 23:00:00  27.62\n",
       "2020-03-07 22:00:00  34.25\n",
       "2020-03-07 21:00:00  35.20\n",
       "2020-03-07 20:00:00  36.91\n",
       "\n",
       "[100 rows x 1 columns]"
      ]
     },
     "execution_count": 75,
     "metadata": {},
     "output_type": "execute_result"
    }
   ],
   "source": [
    "df.head(100)"
   ]
  },
  {
   "cell_type": "code",
   "execution_count": 70,
   "metadata": {},
   "outputs": [
    {
     "data": {
      "text/plain": [
       "<matplotlib.axes._subplots.AxesSubplot at 0x7fa84875f1d0>"
      ]
     },
     "execution_count": 70,
     "metadata": {},
     "output_type": "execute_result"
    },
    {
     "data": {
      "image/png": "[encoded data removed]",
      "text/plain": [
       "<Figure size 864x648 with 1 Axes>"
      ]
     },
     "metadata": {
      "needs_background": "light"
     },
     "output_type": "display_data"
    }
   ],
   "source": [
    "df.plot(figsize=(12,9))"
   ]
  },
  {
   "cell_type": "code",
   "execution_count": null,
   "metadata": {},
   "outputs": [],
   "source": []
  }
 ],
 "metadata": {
  "kernelspec": {
   "display_name": "Python 3",
   "language": "python",
   "name": "python3"
  },
  "language_info": {
   "codemirror_mode": {
    "name": "ipython",
    "version": 3
   },
   "file_extension": ".py",
   "mimetype": "text/x-python",
   "name": "python",
   "nbconvert_exporter": "python",
   "pygments_lexer": "ipython3",
   "version": "3.7.6"
  }
 },
 "nbformat": 4,
 "nbformat_minor": 4
}
